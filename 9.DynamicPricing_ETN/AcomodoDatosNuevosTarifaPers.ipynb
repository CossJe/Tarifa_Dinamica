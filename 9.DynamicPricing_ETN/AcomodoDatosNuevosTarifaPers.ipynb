{
 "cells": [
  {
   "cell_type": "code",
   "execution_count": 1,
   "id": "45179ea8-e1a4-4726-91b0-80b2bf5350ee",
   "metadata": {},
   "outputs": [],
   "source": [
    "import matplotlib.pyplot as plt\n",
    "import pandas as pd\n",
    "import numpy as np\n",
    "import seaborn as sns\n",
    "import os\n",
    "import json\n",
    "from xgboost import XGBClassifier # Importamos el clasificador de XGBoost\n",
    "import joblib\n",
    "\n",
    "import Tools4Cluster as TC\n",
    "from src.dynamic_pricing_data_loader import cargar_y_preparar_datos"
   ]
  },
  {
   "cell_type": "code",
   "execution_count": 2,
   "id": "9b341f62-2292-4982-8b6d-cb098f0b5388",
   "metadata": {},
   "outputs": [],
   "source": [
    "def GetDB():\n",
    "    DB = pd.read_excel(\"ClusteringClientes.xlsx\")\n",
    "    return DB"
   ]
  },
  {
   "cell_type": "code",
   "execution_count": 3,
   "id": "2b2d27fe-e68c-4e71-b79d-f47708ebac27",
   "metadata": {},
   "outputs": [],
   "source": [
    "def GetTodayData():\n",
    "    Df = TC.GetData()\n",
    "    Df['FECHA_OPERACION'] = pd.to_datetime(Df['FECHA_OPERACION'])\n",
    "    fecha_maxima = Df['FECHA_OPERACION'].max()\n",
    "    Df = Df[Df['FECHA_OPERACION'] == fecha_maxima].copy()\n",
    "    Df.loc[(Df['PORCENT_PROMO'] > 0) & (Df['DESC_DESCUENTO'] == 'ADULTO'), 'DESC_DESCUENTO'] = 'PROMOCION ESPECIAL'\n",
    "    # Si tiene 0% de promoción pero estaba marcado como \"PROMOCION ESPECIAL\", devolverlo a \"ADULTO\"\n",
    "    Df.loc[(Df['PORCENT_PROMO'] == 0) & (Df['DESC_DESCUENTO'] == 'PROMOCION ESPECIAL'), 'DESC_DESCUENTO'] = 'ADULTO'\n",
    "    Df['VENTA_ANTICIPADA']= np.where(Df['VENTA_ANTICIPADA']=='SI',1,0)\n",
    "    return Df"
   ]
  },
  {
   "cell_type": "code",
   "execution_count": 4,
   "id": "e124aa4f-1f76-4108-9a80-dd6153eefe93",
   "metadata": {},
   "outputs": [],
   "source": [
    "def Preparacion():\n",
    "    Df= GetTodayData()\n",
    "    DB= GetDB()\n",
    "\n",
    "    Mask_p = Df['EMAIL'].isin(DB['EMAIL'])\n",
    "    Mask_p1 = DB['EMAIL'].isin(Df['EMAIL'])\n",
    "    Df_Not= Df[~Mask_p]\n",
    "    OldPax= DB[Mask_p1]\n",
    "    NewPax= GetNewPax(Df_Not, DB.columns[1:7])\n",
    "\n",
    "    return OldPax, NewPax"
   ]
  },
  {
   "cell_type": "code",
   "execution_count": 5,
   "id": "9fc98640-9adf-4485-806c-432900c9c3ab",
   "metadata": {},
   "outputs": [],
   "source": [
    "def GetCluster(Df,DB):\n",
    "    if Df['EMAIL'].isin(DB['EMAIL']).iloc[0]: \n",
    "        print(\"En la lista\")\n",
    "        Cluster=DB[DB['EMAIL']==Df['EMAIL'].iloc[0]]['Cluster'].iloc[0]\n",
    "    else:\n",
    "        print(\"Fuera de la lista\")\n",
    "        columnas_destino= DB.columns[1:-1]\n",
    "        df_ = pd.DataFrame(\n",
    "        0,                                # Valor a rellenar (cero)\n",
    "        index=Df.index,                   # Usamos el índice de DB para la altura\n",
    "        columns=columnas_destino          # Usamos las columnas seleccionadas\n",
    "        )\n",
    "    \n",
    "        columnas_origen = [\n",
    "            'BOLETOS_VEND',\n",
    "            'VENTA', # Primera columna VENTA\n",
    "            'VENTA', # Segunda columna VENTA\n",
    "            'PORCENT_PROMO',\n",
    "            'HORAS_ANTICIPACION',\n",
    "            'VENTA_ANTICIPADA'\n",
    "        ]\n",
    "        \n",
    "        df_.loc[:, df_.columns[:6]] = Df[columnas_origen].values\n",
    "        df_['Recencia']=0\n",
    "        df_dummies_desc = pd.get_dummies(Df['DESC_DESCUENTO'], prefix='DESC').astype(int)\n",
    "        df_dummies_pago = pd.get_dummies(Df['PAGO_METODO'], prefix='PAGO').astype(int)\n",
    "    \n",
    "        df_[df_dummies_desc.columns[0]]=df_dummies_desc[df_dummies_desc.columns[0]].iloc[0]\n",
    "        df_[df_dummies_pago.columns[0]]=df_dummies_pago[df_dummies_pago.columns[0]].iloc[0]\n",
    "    \n",
    "        modelo_cargado = XGBClassifier()\n",
    "        # Cargar el modelo guardado\n",
    "        modelo_cargado.load_model(\"modelo_xgboost_clientes.json\")\n",
    "    \n",
    "        Cluster = modelo_cargado.predict(df_)[0]\n",
    "\n",
    "    return Cluster"
   ]
  },
  {
   "cell_type": "code",
   "execution_count": 6,
   "id": "51a14f2d-c3e0-4d44-92b5-a3a91c0cbdef",
   "metadata": {},
   "outputs": [
    {
     "name": "stdout",
     "output_type": "stream",
     "text": [
      "Memoria usada antes: 620.82 MB\n",
      "Memoria usada después: 120.70 MB\n",
      "Reducción: 80.6%\n"
     ]
    }
   ],
   "source": [
    "Df1= GetTodayData()\n",
    "DB= GetDB()\n",
    "\n",
    "#Df=pd.DataFrame(Df1.iloc[0]).T"
   ]
  },
  {
   "cell_type": "code",
   "execution_count": 7,
   "id": "01c6319f-86ac-466c-909d-e556b9504119",
   "metadata": {},
   "outputs": [],
   "source": [
    "#GetCluster(Df,DB)"
   ]
  },
  {
   "cell_type": "code",
   "execution_count": 8,
   "id": "50ce810c-adcd-4a44-8094-fe2e603bc6ce",
   "metadata": {},
   "outputs": [
    {
     "name": "stdout",
     "output_type": "stream",
     "text": [
      "Fuera de la lista\n",
      "5\n",
      "En la lista\n",
      "2\n",
      "Fuera de la lista\n",
      "5\n",
      "Fuera de la lista\n",
      "1\n",
      "Fuera de la lista\n",
      "5\n",
      "Fuera de la lista\n",
      "5\n",
      "Fuera de la lista\n",
      "3\n",
      "Fuera de la lista\n",
      "3\n",
      "Fuera de la lista\n",
      "3\n",
      "Fuera de la lista\n",
      "3\n",
      "Fuera de la lista\n",
      "3\n",
      "Fuera de la lista\n",
      "3\n",
      "Fuera de la lista\n",
      "5\n",
      "En la lista\n",
      "3\n",
      "Fuera de la lista\n",
      "3\n",
      "Fuera de la lista\n",
      "3\n",
      "Fuera de la lista\n",
      "3\n",
      "Fuera de la lista\n",
      "3\n",
      "Fuera de la lista\n",
      "3\n",
      "Fuera de la lista\n",
      "3\n",
      "En la lista\n",
      "2\n",
      "Fuera de la lista\n",
      "3\n",
      "Fuera de la lista\n",
      "3\n",
      "Fuera de la lista\n",
      "3\n",
      "En la lista\n",
      "1\n",
      "En la lista\n",
      "4\n",
      "En la lista\n",
      "4\n",
      "En la lista\n",
      "2\n"
     ]
    }
   ],
   "source": [
    "for row in range(len(Df1)):\n",
    "    Df=pd.DataFrame(Df1.iloc[row]).T\n",
    "    print(GetCluster(Df,DB))"
   ]
  },
  {
   "cell_type": "code",
   "execution_count": null,
   "id": "c0a2aa83-31d5-4ae2-b402-b850bba106b5",
   "metadata": {},
   "outputs": [],
   "source": []
  }
 ],
 "metadata": {
  "kernelspec": {
   "display_name": "Python 3 (ipykernel)",
   "language": "python",
   "name": "python3"
  },
  "language_info": {
   "codemirror_mode": {
    "name": "ipython",
    "version": 3
   },
   "file_extension": ".py",
   "mimetype": "text/x-python",
   "name": "python",
   "nbconvert_exporter": "python",
   "pygments_lexer": "ipython3",
   "version": "3.12.3"
  }
 },
 "nbformat": 4,
 "nbformat_minor": 5
}
