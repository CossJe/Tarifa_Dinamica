{
 "cells": [
  {
   "cell_type": "code",
   "execution_count": 1,
   "id": "331fb854-38ed-4dba-8371-497335747e44",
   "metadata": {},
   "outputs": [],
   "source": [
    "import pandas as pd\n",
    "import numpy as np\n",
    "import matplotlib.pyplot as plt\n",
    "import seaborn as sns\n",
    "import os\n",
    "import json\n",
    "import statsmodels.api as sm\n",
    "\n",
    "from src.dynamic_pricing_data_loader import cargar_y_preparar_datos"
   ]
  },
  {
   "cell_type": "code",
   "execution_count": 2,
   "id": "78f8a69e-8ee1-4d72-82f2-935f54f8ea92",
   "metadata": {},
   "outputs": [],
   "source": [
    "def GetData(): \n",
    "    # Definir rutas\n",
    "    ruta_principal = os.getcwd()\n",
    "    config_path = os.path.join(ruta_principal, \"config\", \"config.json\")\n",
    "    \n",
    "    # Cargar y preparar datos\n",
    "    Frame= cargar_y_preparar_datos(config_path, ruta_principal)\n",
    "    Df=Frame[['FECHA_CORRIDA','VENTA','BOLETOS_VEND','TIPO_CORRIDA']]\n",
    "    Df=Df[Df['VENTA']>0]\n",
    "    Df=Df[Df['TIPO_CORRIDA']=='NORMAL']\n",
    "    \n",
    "    df_Bol = Df.groupby('FECHA_CORRIDA')['BOLETOS_VEND'].sum().reset_index().iloc[:-1,:]\n",
    "    df_Bol=df_Bol.set_index(df_Bol.columns[0])\n",
    "    df_Bol.index.name = 'Fecha'\n",
    "    df_Bol.index = pd.to_datetime(df_Bol.index)\n",
    "    \n",
    "    df_Venta = Df.groupby('FECHA_CORRIDA')['VENTA'].sum().reset_index().iloc[:-1,:]\n",
    "    df_Venta=df_Venta.set_index(df_Venta.columns[0])\n",
    "    df_Venta.index.name = 'Fecha'\n",
    "    df_Venta.index = pd.to_datetime(df_Venta.index)\n",
    "\n",
    "    return df_Bol, df_Venta"
   ]
  },
  {
   "cell_type": "code",
   "execution_count": 3,
   "id": "fe0b67c8-c8a5-44a4-b399-fca07633ff9d",
   "metadata": {},
   "outputs": [
    {
     "name": "stdout",
     "output_type": "stream",
     "text": [
      "Memoria usada antes: 612.26 MB\n",
      "Memoria usada después: 119.14 MB\n",
      "Reducción: 80.5%\n"
     ]
    }
   ],
   "source": [
    "ruta_principal = os.getcwd()\n",
    "config_path = os.path.join(ruta_principal, \"config\", \"config.json\")\n",
    "    \n",
    "# Cargar y preparar datos\n",
    "Frame= cargar_y_preparar_datos(config_path, ruta_principal)"
   ]
  },
  {
   "cell_type": "code",
   "execution_count": 4,
   "id": "890f031a-b7a6-4323-9451-e9b905cdcc8f",
   "metadata": {},
   "outputs": [
    {
     "name": "stdout",
     "output_type": "stream",
     "text": [
      "Memoria usada antes: 612.26 MB\n",
      "Memoria usada después: 119.14 MB\n",
      "Reducción: 80.5%\n"
     ]
    }
   ],
   "source": [
    "df_Bol, df_Venta= GetData()"
   ]
  },
  {
   "cell_type": "code",
   "execution_count": null,
   "id": "966f91d9-9726-4680-96b4-c02f77cd6ff9",
   "metadata": {},
   "outputs": [],
   "source": [
    "CaracVenta,Modelo_Xgb_Venta= Ent1.GridSearch(df_Venta,Emp,df_Venta.columns[0])\n",
    "df_Forecast_Venta= Pred1.predicciones(df_Venta,CaracVenta,Modelo_Xgb_Venta,30)\n",
    "\n",
    "CaracBol,Modelo_Xgb_Bol= Ent2.GridSearch(df_Bol,Emp,df_Bol.columns[0],df_Venta)\n",
    "df_Forecast_Bol,last_date= Pred2.predicciones(df_Bol,df_Forecast_Venta,CaracBol,Modelo_Xgb_Bol,30)"
   ]
  }
 ],
 "metadata": {
  "kernelspec": {
   "display_name": "Python 3 (ipykernel)",
   "language": "python",
   "name": "python3"
  },
  "language_info": {
   "codemirror_mode": {
    "name": "ipython",
    "version": 3
   },
   "file_extension": ".py",
   "mimetype": "text/x-python",
   "name": "python",
   "nbconvert_exporter": "python",
   "pygments_lexer": "ipython3",
   "version": "3.12.3"
  }
 },
 "nbformat": 4,
 "nbformat_minor": 5
}
