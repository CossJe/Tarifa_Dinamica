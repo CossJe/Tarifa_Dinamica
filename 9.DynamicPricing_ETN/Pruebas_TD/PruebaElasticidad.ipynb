{
 "cells": [
  {
   "cell_type": "markdown",
   "id": "93345777-1f3b-4fd0-8558-e3d8c3fb907c",
   "metadata": {},
   "source": [
    "# Elasticidad de la demanda"
   ]
  },
  {
   "cell_type": "code",
   "execution_count": 1,
   "id": "fbc79f5d-a2e0-4cfa-8372-0b8bb70ae986",
   "metadata": {},
   "outputs": [],
   "source": [
    "import pandas as pd\n",
    "import numpy as np\n",
    "import matplotlib.pyplot as plt\n",
    "import seaborn as sns\n",
    "import os\n",
    "import json\n",
    "import statsmodels.api as sm\n",
    "\n",
    "from src.dynamic_pricing_data_loader import cargar_y_preparar_datos"
   ]
  },
  {
   "cell_type": "code",
   "execution_count": 2,
   "id": "a927adba-b390-4799-8fe2-c2ca6fb971cd",
   "metadata": {},
   "outputs": [],
   "source": [
    "def Get_goodDay(df,atribute,atribute1):\n",
    "    \n",
    "    df_output=df.copy()\n",
    "    df_output['FECHA_CORRIDA'] = pd.to_datetime(df_output['FECHA_CORRIDA'])\n",
    "    df_output['Dia de la semana'] = df_output[atribute1].dt.day_name()\n",
    "    # Calculate the sum of 'VENTA_BOLETOS' for each day of the week\n",
    "    daily_sales = df_output.groupby('Dia de la semana')[atribute].sum()\n",
    "    daily_sales=daily_sales.sort_values(ascending=False)\n",
    "    daily_sales=daily_sales[:3]\n",
    "    indices={'Monday':0,'Tuesday':1, 'Wednesday':2, 'Thursday':3,\n",
    "         'Friday':4,'Saturday':5,'Sunday':6}\n",
    "    dias=list(daily_sales.index.map(indices).to_numpy())\n",
    "    df_output['Buen_dia'] =df_output[atribute1].dt.dayofweek.isin(dias).astype(int)\n",
    "    df_output['Buen_dia']= df_output['Buen_dia'].astype(np.int64)\n",
    "    df_output.drop('Dia de la semana', axis=1, inplace=True)\n",
    "    \n",
    "    return df_output"
   ]
  },
  {
   "cell_type": "code",
   "execution_count": 3,
   "id": "61a59b86-c2a2-4e47-a3aa-2b0a4a30c526",
   "metadata": {},
   "outputs": [],
   "source": [
    "def GetData(year): \n",
    "    # Definir rutas\n",
    "    ruta_principal = os.getcwd()\n",
    "    config_path = os.path.join(ruta_principal, \"config\", \"config.json\")\n",
    "    \n",
    "    # Cargar y preparar datos\n",
    "    Frame= cargar_y_preparar_datos(config_path, ruta_principal)\n",
    "    Df=Frame[['OPERACION','FECHA_CORRIDA','FECHA_OPERACION','TIPO_PASAJERO','VENTA',\n",
    "                 'KMS_TRAMO','PAX_SUBEN','VENTA_ANTICIPADA','TIPO_CORRIDA',\n",
    "                 'DESC_DESCUENTO','PORCENT_PROMO','IVA_VENDIDO','TARIFA_BASE_TRAMO','IVA_TARIFA_BASE_TRAMO']]\n",
    "\n",
    "    Df=Df[Df['VENTA']>0]\n",
    "    #Df.to_excel(\"NuevaBase.xlsx\", index=False)\n",
    "    Df['FECHA_OPERACION'] = pd.to_datetime(Df['FECHA_OPERACION'])\n",
    "    Df = Df[Df['FECHA_OPERACION'].dt.year == year]\n",
    "    Df['PRECIO'] = Df['VENTA']-Df['IVA_VENDIDO']\n",
    "    Df['TARIFA'] = Df['TARIFA_BASE_TRAMO']-Df['IVA_TARIFA_BASE_TRAMO']\n",
    "    Df=Df[['OPERACION','FECHA_CORRIDA','FECHA_OPERACION','TIPO_PASAJERO','VENTA','PRECIO',\n",
    "                     'KMS_TRAMO','PAX_SUBEN','VENTA_ANTICIPADA','TIPO_CORRIDA','TARIFA',\n",
    "                     'DESC_DESCUENTO','PORCENT_PROMO']]\n",
    "    \n",
    "    Df['PORCENT_PROMO'] = Df['PORCENT_PROMO'].fillna(0)\n",
    "    return Df[Df['TIPO_CORRIDA']=='NORMAL']"
   ]
  },
  {
   "cell_type": "code",
   "execution_count": 4,
   "id": "685c2678-20a6-4e75-9f90-cd946abfac00",
   "metadata": {},
   "outputs": [],
   "source": [
    "def GetFeatures(df):\n",
    "    Frame=df.copy()\n",
    "    Listado_Pasajeros=list(set(Frame['TIPO_PASAJERO']))\n",
    "    #Frame=Frame[Frame['TIPO_PASAJERO']==Listado_Pasajeros[2]]\n",
    "    # Convierte las columnas a tipo datetime\n",
    "    Frame['FECHA_OPERACION'] = pd.to_datetime(Frame['FECHA_OPERACION'])\n",
    "    Frame['FECHA_CORRIDA'] = pd.to_datetime(Frame['FECHA_CORRIDA'])\n",
    "    \n",
    "    # Crea una nueva columna 'DIAS_DIFERENCIA' con el cálculo\n",
    "    Frame['Dias_Anticipacion'] = (Frame['FECHA_CORRIDA'] - Frame['FECHA_OPERACION']).dt.days\n",
    "    Frame['Mes_Viaje'] = Frame['FECHA_CORRIDA'].dt.month\n",
    "    Frame['Fin_Semana_Viaje'] = Frame['FECHA_CORRIDA'].dt.dayofweek >= 5\n",
    "    Frame.rename(columns={'PAX_SUBEN': 'Q_Boletos'}, inplace=True)\n",
    "    \n",
    "    Frame=Get_goodDay(Frame,'PRECIO','FECHA_CORRIDA')\n",
    "    Frame['Fin_Semana_Viaje'] = Frame['Fin_Semana_Viaje'].astype(int)\n",
    "    Frame['Buen_dia'] = Frame['Buen_dia'].astype(int)\n",
    "    Frame=Frame.dropna()\n",
    "    # Cuenta el número de NaN por cada columna\n",
    "    nan_por_columna = Frame.isnull().sum()\n",
    "    \n",
    "    #print(\"Cantidad de NaN por columna:\")\n",
    "    #print(nan_por_columna)\n",
    "    return Frame"
   ]
  },
  {
   "cell_type": "code",
   "execution_count": 5,
   "id": "c34364e1-1123-4bdb-ab6e-1297fc0d535a",
   "metadata": {},
   "outputs": [],
   "source": [
    "def GetElasticity(df):\n",
    "    Frame=df.copy()\n",
    "    X_P=Frame[['TARIFA', 'Dias_Anticipacion', 'Mes_Viaje', 'Fin_Semana_Viaje', 'Buen_dia']]\n",
    "    Y_P=pd.DataFrame(Frame['PRECIO'])\n",
    "    \n",
    "    X_Q=Frame[['Dias_Anticipacion', 'Mes_Viaje', 'Fin_Semana_Viaje', 'Buen_dia']]\n",
    "    \n",
    "    X_P= sm.add_constant(X_P)  # Agregar una constante para el intercepto\n",
    "    \n",
    "    # Entrenar el modelo de regresión OLS para la primera etapa\n",
    "    reg_stage1 = sm.OLS(Y_P, X_P).fit()\n",
    "    \n",
    "    # Ver el resumen de la segunda regresión\n",
    "    #print(reg_stage1.summary())\n",
    "    \n",
    "    # Obtener los valores predichos del precio de venta\n",
    "    T_Est = reg_stage1.predict(X_P)\n",
    "    \n",
    "    T_Est = pd.DataFrame(T_Est, columns=['T_Est'])\n",
    "    \n",
    "    X_Q = pd.concat([T_Est, X_Q], axis=1)\n",
    "    X_Q = sm.add_constant(X_Q) # Agregar una constante para el intercepto\n",
    "    Y_Q=pd.DataFrame(Frame['Q_Boletos'])\n",
    "    \n",
    "    # Entrenar el modelo de regresión OLS para la primera etapa\n",
    "    reg_stage2 = sm.OLS(Y_Q, X_Q).fit()\n",
    "    \n",
    "    # Ver el resumen de la segunda regresión\n",
    "    #print(reg_stage2.summary())\n",
    "    \n",
    "    # Obtener el coeficiente beta1 del resumen\n",
    "    beta1 = reg_stage2.params['T_Est']\n",
    "    \n",
    "    # La variable endógena (P) es P_Venta\n",
    "    P =pd.DataFrame(Frame['PRECIO'])\n",
    "    # La variable dependiente (Y) es Q_Boletos\n",
    "    Y =pd.DataFrame(Frame['Q_Boletos'])\n",
    "    \n",
    "    # Calcular los promedios de las variables para el cálculo de la elasticidad\n",
    "    promedio_Q_Boletos = Y.mean().values[0]\n",
    "    promedio_P_Venta = P.mean().values[0]\n",
    "    \n",
    "    # Calcular la elasticidad de la demanda\n",
    "    elasticidad = beta1 * (promedio_P_Venta / promedio_Q_Boletos)\n",
    "    \n",
    "    print(f\"El coeficiente beta1 es: {beta1:.4f}\")\n",
    "    print(f\"La elasticidad de la demanda es: {elasticidad:.4f}\")\n",
    "    \n",
    "    Coef = list(reg_stage2.params)\n",
    "    return Coef, elasticidad"
   ]
  },
  {
   "cell_type": "code",
   "execution_count": 6,
   "id": "169cd557-7701-48a0-bf49-d67521196dc1",
   "metadata": {},
   "outputs": [],
   "source": [
    "def GetPrizes(Coef,CondIni,UT):\n",
    "    PrecioMaximo= Coef[0]+Coef[2]*CondIni['Dias_Anticipacion']+\\\n",
    "        +Coef[3]*CondIni['Mes_Viaje']+Coef[4]*CondIni['Fin_Semana_Viaje']+\\\n",
    "        +Coef[5]*CondIni[ 'Buen_dia']\n",
    "        \n",
    "    PM= np.abs(PrecioMaximo/(-2*Coef[1]))\n",
    "    PS= np.abs(Coef[0]/(Coef[1]*2))\n",
    "    Dp= (UT-PM)/UT\n",
    "    PrecioMaximo= Dp*PM + PM\n",
    "    PrecioSugerido = Dp*PS + PS\n",
    "    print(f\"El precio maximo a vender es: {PrecioMaximo:.4f}\")\n",
    "    print(f\"El precio sugerido a vender es: {PrecioSugerido:.4f}\")\n",
    "\n",
    "    return PrecioMaximo, PrecioSugerido"
   ]
  },
  {
   "cell_type": "code",
   "execution_count": 7,
   "id": "ebc50b23-7f2c-4a3f-83df-9b205d6b7d9a",
   "metadata": {},
   "outputs": [],
   "source": [
    "def MainElas(UltimaTar= 1163.79):\n",
    "    CondIni={\n",
    "    'Dias_Anticipacion':0, \n",
    "    'Mes_Viaje':12, \n",
    "    'Fin_Semana_Viaje': 0, \n",
    "    'Buen_dia': 1\n",
    "    } # La tarifa más cara de diciembre\n",
    "    # sirve para estimar el precio del año 2025\n",
    "    Frame=GetData(2024)\n",
    "    Frame=GetFeatures(Frame)\n",
    "    Coef, Elasticidad= GetElasticity(Frame)\n",
    "    PrecioMaximo, PrecioSugerido= GetPrizes(Coef,CondIni,UltimaTar)\n",
    "\n",
    "    return PrecioMaximo, PrecioSugerido, Elasticidad"
   ]
  },
  {
   "cell_type": "code",
   "execution_count": 8,
   "id": "c8abf056-de7b-4a05-98c0-26e2128fbf11",
   "metadata": {},
   "outputs": [
    {
     "name": "stdout",
     "output_type": "stream",
     "text": [
      "Memoria usada antes: 612.76 MB\n",
      "Memoria usada después: 119.22 MB\n",
      "Reducción: 80.5%\n",
      "El coeficiente beta1 es: -0.0275\n",
      "La elasticidad de la demanda es: -0.9158\n",
      "El precio maximo a vender es: 1091.5052\n",
      "El precio sugerido a vender es: 959.9750\n"
     ]
    },
    {
     "data": {
      "text/plain": [
       "(1091.505172909186, 959.9749535505522, -0.9158051447744282)"
      ]
     },
     "execution_count": 8,
     "metadata": {},
     "output_type": "execute_result"
    }
   ],
   "source": [
    "MainElas()"
   ]
  },
  {
   "cell_type": "code",
   "execution_count": null,
   "id": "df9233b4-b0b4-4c13-847f-66fdc484ba4b",
   "metadata": {},
   "outputs": [],
   "source": []
  },
  {
   "cell_type": "code",
   "execution_count": null,
   "id": "e9fe8e03-b9ea-4c52-a1a2-efc65a46e6fc",
   "metadata": {},
   "outputs": [],
   "source": []
  }
 ],
 "metadata": {
  "kernelspec": {
   "display_name": "Python 3 (ipykernel)",
   "language": "python",
   "name": "python3"
  },
  "language_info": {
   "codemirror_mode": {
    "name": "ipython",
    "version": 3
   },
   "file_extension": ".py",
   "mimetype": "text/x-python",
   "name": "python",
   "nbconvert_exporter": "python",
   "pygments_lexer": "ipython3",
   "version": "3.12.3"
  }
 },
 "nbformat": 4,
 "nbformat_minor": 5
}
