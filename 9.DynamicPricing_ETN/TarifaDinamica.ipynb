{
 "cells": [
  {
   "cell_type": "markdown",
   "id": "e2bd8232-bba4-4463-a7db-b464a3c1c21d",
   "metadata": {},
   "source": [
    "# <center><font size=\"8\">Tarifa Dinámica</font></center>"
   ]
  },
  {
   "cell_type": "markdown",
   "id": "4a829f08-7502-4474-995f-9324b1df51f9",
   "metadata": {},
   "source": [
    "# <div align=\"left\"><font size=\"5\">Librerias</font></div>"
   ]
  },
  {
   "cell_type": "code",
   "execution_count": null,
   "id": "0cdc1ee2-a637-4482-9bc7-cc09876f0d6e",
   "metadata": {},
   "outputs": [],
   "source": [
    "import matplotlib.pyplot as plt\n",
    "import pandas as pd\n",
    "import numpy as np\n",
    "import os\n",
    "\n",
    "from Tools import Tools4DataExtraction as T4DE\n",
    "from Tools.Tools4Cluster import ClusteringData\n",
    "from Tools.Tools4ClasSupervisada import ClusteringSupervisado\n",
    "from Tools import Tools4TarifPer as T4TP\n",
    "from Tools import Tools4Net as T4N "
   ]
  },
  {
   "cell_type": "markdown",
   "id": "b4e500df-1d74-434e-913c-a11c58307189",
   "metadata": {},
   "source": [
    "# <div align=\"left\"><font size=\"5\">Extracción de información del modelo de datos</font></div>"
   ]
  },
  {
   "cell_type": "code",
   "execution_count": null,
   "id": "8534646b-ac36-47c4-85f1-e4317f5bb097",
   "metadata": {},
   "outputs": [],
   "source": [
    "# Se extraen los datos del modelo de datos\n",
    "D4NN, D4C= T4DE.Get_Data()"
   ]
  },
  {
   "cell_type": "markdown",
   "id": "35c88075-c3a3-4544-956b-2bc319881eac",
   "metadata": {},
   "source": [
    "# <div align=\"left\"><font size=\"5\">Clasificación no supervisada</font></div>"
   ]
  },
  {
   "cell_type": "code",
   "execution_count": null,
   "id": "fb4eff5e-c805-4df5-9947-4e6bc047d22e",
   "metadata": {},
   "outputs": [],
   "source": [
    "ClusteringData(False,D4C)"
   ]
  },
  {
   "cell_type": "markdown",
   "id": "f717c1df-4d44-4944-9d74-f04d0a6e40d1",
   "metadata": {},
   "source": [
    "# <div align=\"left\"><font size=\"5\">Extracción de la base de datos de los clusters generados</font></div>"
   ]
  },
  {
   "cell_type": "code",
   "execution_count": null,
   "id": "aca9e032-de01-4e95-9f4c-60ccc6413056",
   "metadata": {},
   "outputs": [],
   "source": [
    "# se extrae la base de datos de los clusters generados\n",
    "DBClus= T4DE.GetDB()"
   ]
  },
  {
   "cell_type": "markdown",
   "id": "eeeea767-ebf8-4bec-a2ac-d99f183f7bac",
   "metadata": {},
   "source": [
    "# <div align=\"left\"><font size=\"5\">Clasificación supervisada</font></div>"
   ]
  },
  {
   "cell_type": "code",
   "execution_count": null,
   "id": "3000fb02-7f17-4971-887f-b30f8e56d785",
   "metadata": {},
   "outputs": [],
   "source": [
    "# Se aplica la clasificación supervisada a la base de datos de los clusters generados\n",
    "ClusteringSupervisado(DBClus)"
   ]
  },
  {
   "cell_type": "markdown",
   "id": "0d780e6a-93da-474c-8fa9-0889f24a1a51",
   "metadata": {},
   "source": [
    "# <div align=\"left\"><font size=\"5\">Obteniendo la tarifa dinámica</font></div>"
   ]
  },
  {
   "cell_type": "code",
   "execution_count": null,
   "id": "1810b4b7-ef78-4c09-bb2a-c4bb121ff7bd",
   "metadata": {},
   "outputs": [],
   "source": [
    "TodayDataPD=T4N.ProcessingNet(D4NN)"
   ]
  },
  {
   "cell_type": "code",
   "execution_count": null,
   "id": "91af480a-3ed3-46e8-887d-bdfdf2408ffc",
   "metadata": {},
   "outputs": [],
   "source": [
    "TodayDataPD"
   ]
  },
  {
   "cell_type": "code",
   "execution_count": null,
   "id": "aefe8785-0163-4bb7-96cd-da5e4ad9f90c",
   "metadata": {},
   "outputs": [],
   "source": []
  },
  {
   "cell_type": "markdown",
   "id": "48081f90-0b80-4c17-bff8-a7dcfc5d45c7",
   "metadata": {},
   "source": [
    "# <div align=\"left\"><font size=\"5\">Obteniendo datos del presente día para la tarifa personalizada</font></div>"
   ]
  },
  {
   "cell_type": "code",
   "execution_count": null,
   "id": "7a5f6f17-8e92-41d7-956c-584c44eb0dcf",
   "metadata": {},
   "outputs": [],
   "source": [
    "# Se obtienen los datos de los clientes para obtener la tarifa personalizada\n",
    "TodayData4C= T4TP.GetTodayData4Cluster(D4C)"
   ]
  },
  {
   "cell_type": "code",
   "execution_count": null,
   "id": "4a2b6098-659f-426e-8adb-307c76daec67",
   "metadata": {},
   "outputs": [],
   "source": [
    "# se simula la obtencion del cluster del cliente que está comprando\n",
    "# para ver que tarifa personalizada se le asigna\n",
    "\n",
    "import pandas as pd\n",
    "\n",
    "# 1. Inicializa una lista vacía para guardar los resultados\n",
    "lista_resultados = []\n",
    "\n",
    "# 2. Itera y agrega cada DataFrame a la lista\n",
    "for row in range(len(TodayData4C)):\n",
    "    # 1. Crea la fila (DataFrame de 1xN)\n",
    "    InfoClient = pd.DataFrame(TodayData4C.iloc[row]).T\n",
    "    \n",
    "    # 2. Procesa la información (asumo que T4TP.GetCluster devuelve Cluster y desc)\n",
    "    Cluster, desc = T4TP.GetCluster(InfoClient, DBClus)\n",
    "    \n",
    "    # 3. Agrega la nueva columna\n",
    "    InfoClient[\"Tarifa Personalizada\"] = desc\n",
    "    \n",
    "    # 4. Agrega el DataFrame resultante a la lista\n",
    "    lista_resultados.append(InfoClient)\n",
    "\n",
    "# 3. Concatena todos los DataFrames de la lista de una sola vez\n",
    "TodayDataTP = pd.concat(lista_resultados, ignore_index=True)\n",
    "\n",
    "# El DataFrame 'final' ahora contiene todas las filas concatenadas"
   ]
  },
  {
   "cell_type": "code",
   "execution_count": null,
   "id": "c753aedc-0994-4761-84e3-e0133f6cd8a8",
   "metadata": {},
   "outputs": [],
   "source": []
  },
  {
   "cell_type": "code",
   "execution_count": null,
   "id": "68ecb598-604d-4895-895b-3f79411adafe",
   "metadata": {},
   "outputs": [],
   "source": []
  },
  {
   "cell_type": "code",
   "execution_count": null,
   "id": "a9c6107e-b814-4393-bf0a-65563e8c9da5",
   "metadata": {},
   "outputs": [],
   "source": [
    "df_combinado = pd.merge(\n",
    "    TodayDataPD,\n",
    "    TodayDataTP,\n",
    "    on='NOMBRE_PASAJERO',  # La columna clave que comparten\n",
    "    how='inner'    # El tipo de unión que deseas\n",
    ")"
   ]
  },
  {
   "cell_type": "code",
   "execution_count": null,
   "id": "72ceaef2-b526-4500-a13f-ffe16a2c173a",
   "metadata": {},
   "outputs": [],
   "source": [
    "df_combinado.columns"
   ]
  },
  {
   "cell_type": "code",
   "execution_count": null,
   "id": "ea8c47f1-3992-4fb4-8f93-955b2a38687a",
   "metadata": {},
   "outputs": [],
   "source": []
  },
  {
   "cell_type": "code",
   "execution_count": null,
   "id": "f42062e0-0cd4-44ad-80ab-15cc7174d45a",
   "metadata": {},
   "outputs": [],
   "source": [
    "ruta_principal = os.getcwd()\n",
    "ruta_principal"
   ]
  },
  {
   "cell_type": "code",
   "execution_count": null,
   "id": "c661d1a2-6983-49bb-8974-6cea5d9bdc4d",
   "metadata": {},
   "outputs": [],
   "source": [
    "config_path = os.path.join(ruta_principal, \"config\", \"config.json\") # para leer\n",
    "config_path"
   ]
  },
  {
   "cell_type": "code",
   "execution_count": null,
   "id": "58d98be5-0500-4913-bb76-e1cf139e91e8",
   "metadata": {},
   "outputs": [],
   "source": []
  }
 ],
 "metadata": {
  "kernelspec": {
   "display_name": "Python 3 (ipykernel)",
   "language": "python",
   "name": "python3"
  },
  "language_info": {
   "codemirror_mode": {
    "name": "ipython",
    "version": 3
   },
   "file_extension": ".py",
   "mimetype": "text/x-python",
   "name": "python",
   "nbconvert_exporter": "python",
   "pygments_lexer": "ipython3",
   "version": "3.12.3"
  }
 },
 "nbformat": 4,
 "nbformat_minor": 5
}
