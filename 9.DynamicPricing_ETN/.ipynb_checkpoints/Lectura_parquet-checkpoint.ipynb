{
 "cells": [
  {
   "cell_type": "code",
   "execution_count": 3,
   "id": "7e44b6af-af69-47e4-9558-9126d24122ba",
   "metadata": {},
   "outputs": [],
   "source": [
    "import pandas as pd\n",
    "import os"
   ]
  },
  {
   "cell_type": "code",
   "execution_count": 11,
   "id": "faca8d3c-2865-4361-8990-e61b7be06ac8",
   "metadata": {},
   "outputs": [],
   "source": [
    "ruta_principal = os.getcwd()\n",
    "config_path = os.path.join(ruta_principal, \"Files\", 'ClusteringClientes_Resumen.parquet')\n",
    "config_path1 = os.path.join(ruta_principal, \"Files\", 'ClusteringClientes_Resumen.csv')"
   ]
  },
  {
   "cell_type": "code",
   "execution_count": 12,
   "id": "1e0c3948-084e-4499-9d06-d4826b7db75d",
   "metadata": {},
   "outputs": [],
   "source": [
    "df=pd.read_parquet(config_path)"
   ]
  },
  {
   "cell_type": "code",
   "execution_count": 13,
   "id": "7004b261-f0f6-4380-9651-0e0a8dba4e86",
   "metadata": {},
   "outputs": [],
   "source": [
    "df.to_csv(config_path1, index=False)"
   ]
  },
  {
   "cell_type": "code",
   "execution_count": null,
   "id": "1779c48d-8d8c-4bff-b198-624bea3fe132",
   "metadata": {},
   "outputs": [],
   "source": []
  }
 ],
 "metadata": {
  "kernelspec": {
   "display_name": "Python 3 (ipykernel)",
   "language": "python",
   "name": "python3"
  },
  "language_info": {
   "codemirror_mode": {
    "name": "ipython",
    "version": 3
   },
   "file_extension": ".py",
   "mimetype": "text/x-python",
   "name": "python",
   "nbconvert_exporter": "python",
   "pygments_lexer": "ipython3",
   "version": "3.12.3"
  }
 },
 "nbformat": 4,
 "nbformat_minor": 5
}
