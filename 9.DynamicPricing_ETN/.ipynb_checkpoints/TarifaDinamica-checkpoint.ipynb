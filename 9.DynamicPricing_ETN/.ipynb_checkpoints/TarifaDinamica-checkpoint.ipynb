{
 "cells": [
  {
   "cell_type": "markdown",
   "id": "e2bd8232-bba4-4463-a7db-b464a3c1c21d",
   "metadata": {},
   "source": [
    "# <center><font size=\"8\">Tarifa Dinámica</font></center>"
   ]
  },
  {
   "cell_type": "markdown",
   "id": "665e1ea0-012d-460c-abaa-6fdb66e8321b",
   "metadata": {},
   "source": [
    "# Introducción al Prototipo de Oferta Dinámica Personalizada\n",
    "\n",
    "---\n",
    "\n",
    "## 1. Contexto y Objetivos\n",
    "\n",
    "El presente proyecto se enfoca en el desarrollo de un sistema avanzado de **Oferta Dinámica (Dynamic Pricing)** con el objetivo primordial de **optimizar los ingresos y la rentabilidad** a través de la **personalización de tarifas**.  \n",
    "\n",
    "En lugar de utilizar modelos de precio estáticos o ajustes basados únicamente en la demanda global, nuestro prototipo se cimenta en el **análisis individual del consumidor** para determinar el precio óptimo en tiempo real.  \n",
    "\n",
    "Para lograr esta personalización, hemos diseñado un **pipeline de Machine Learning** que combina técnicas de **econometría**, **aprendizaje no supervisado** y **modelos predictivos**.\n",
    "\n",
    "---\n",
    "\n",
    "## 2. Metodología y Arquitectura del Modelo\n",
    "\n",
    "La propuesta metodológica se basa en **tres fases interconectadas**, que transforman la sensibilidad del cliente en una tarifa personalizada:\n",
    "\n",
    "---\n",
    "\n",
    "### A. Estimación y Segmentación por Elasticidad (Fundamento Económico)\n",
    "\n",
    "El primer pilar del prototipo fue la **estimación rigurosa de la elasticidad precio de la demanda ($\\text{EPD}$)**.  \n",
    "Esta métrica ha sido fundamental para entender el grado de respuesta de la cantidad demandada ante variaciones de precio en nuestros datos históricos.\n",
    "\n",
    "Posteriormente, aplicamos un **algoritmo de clustering** (*aprendizaje no supervisado*) para **clasificar a los clientes** basándonos en su $\\text{EPD}$ y otras características de comportamiento.  \n",
    "\n",
    "Este *clustering* nos permitió crear **segmentos de clientes bien definidos** (por ejemplo: *“Extremadamente Elásticos”*, *“Inelásticos”*), estableciendo un **rango de ajuste de precios** (aumento o decremento) específico para cada grupo.\n",
    "\n",
    "---\n",
    "\n",
    "### B. Clasificación de Clientes Nuevos (Motor de XGBoost)\n",
    "\n",
    "Una vez establecidos los segmentos de elasticidad, desarrollamos un **clasificador basado en el algoritmo XGBoost (eXtreme Gradient Boosting)**.  \n",
    "\n",
    "La función de este modelo es crucial en la operativa:  \n",
    "al recibir los datos de un nuevo cliente o una nueva interacción, **XGBoost predice a cuál de las categorías de elasticidad pre-clasificadas pertenece**.  \n",
    "\n",
    "Esta predicción es el **factor determinante inicial** para estimar la tarifa personalizada, permitiéndonos saber si el sistema debe apuntar a un **aumento**, un **decremento** o un **precio base**.\n",
    "\n",
    "---\n",
    "\n",
    "### C. Determinación de la Oferta Dinámica (Red Neuronal)\n",
    "\n",
    "Finalmente, para la etapa de determinación del precio, implementamos una **red neuronal artificial**.  \n",
    "\n",
    "Este modelo de aprendizaje profundo **integra las características de la demanda**, la **clasificación de elasticidad obtenida de XGBoost**, y otras **variables dinámicas** (como inventario, hora del día y actividad de la competencia) para **estimar la oferta dinámica final y personalizada**.  \n",
    "\n",
    "La red neuronal provee la **flexibilidad** y la **capacidad de capturar relaciones no lineales** necesarias para el ajuste preciso del precio a nivel individual.\n",
    "\n"
   ]
  },
  {
   "cell_type": "markdown",
   "id": "142a8923-fbef-4adf-8f6d-242bfc36934d",
   "metadata": {},
   "source": [
    "# <div align=\"left\"><font size=\"5\">Objetivos</font></div>"
   ]
  },
  {
   "cell_type": "markdown",
   "id": "888884b8-e35b-47eb-8283-5c99e2ac303c",
   "metadata": {},
   "source": [
    "## Objetivos del Prototipo de Oferta Dinámica\n",
    "\n",
    "---\n",
    "\n",
    "### 1. Estimar la Elasticidad de la Demanda  \n",
    "Cuantificar la **sensibilidad al precio ($\\text{EPD}$)** de los diferentes segmentos de clientes como **fundamento económico** para la toma de decisiones de precio.\n",
    "\n",
    "---\n",
    "\n",
    "### 2. Segmentar Clientes por Comportamiento de Precio  \n",
    "Aplicar **técnicas de *clustering*** para **agrupar clientes** en categorías de elasticidad homogéneas, creando **segmentos accionables** que definan la estrategia inicial de **aumento o decremento de precios**.\n",
    "\n",
    "---\n",
    "\n",
    "### 3. Desarrollar un Motor de Clasificación de Clientes  \n",
    "Implementar y validar el **algoritmo XGBoost** para **clasificar con alta precisión** a nuevos clientes dentro de los segmentos de elasticidad previamente definidos.\n",
    "\n",
    "---\n",
    "\n",
    "### 4. Integrar un Pipeline Predictivo Completo  \n",
    "Crear un prototipo **pipeline robusto** que combine:  \n",
    "- el *clustering* (**aprendizaje no supervisado**),  \n",
    "- la **clasificación** (XGBoost), y  \n",
    "- la **predicción** (Red Neuronal)  \n",
    "\n",
    "para la **generación de la tarifa final personalizada con tarifa dinámica**.\n"
   ]
  },
  {
   "cell_type": "markdown",
   "id": "4a829f08-7502-4474-995f-9324b1df51f9",
   "metadata": {},
   "source": [
    "# <div align=\"left\"><font size=\"5\">Librerias</font></div>"
   ]
  },
  {
   "cell_type": "code",
   "execution_count": null,
   "id": "c39da10c-99fc-485a-b10c-5a6e926fe4ec",
   "metadata": {},
   "outputs": [],
   "source": [
    "import matplotlib.pyplot as plt\n",
    "import pandas as pd\n",
    "import numpy as np\n",
    "import os\n",
    "\n",
    "from Tools import Tools4DataExtraction as T4DE\n",
    "from Tools.Tools4Cluster import ClusteringData\n",
    "from Tools.Tools4ClasSupervisada import ClusteringSupervisado\n",
    "from Tools import Tools4TarifPer as T4TP\n",
    "from Tools import Tools4Net as T4N \n",
    "from Tools import Tools4Elasticity as T4E"
   ]
  },
  {
   "cell_type": "markdown",
   "id": "f5d3d1c7-8353-44e3-ab86-b17edd5784b1",
   "metadata": {},
   "source": [
    "# <div align=\"left\"><font size=\"5\">Calculo de la elasticidad</font></div>"
   ]
  },
  {
   "cell_type": "markdown",
   "id": "a809a76b-04d4-4800-9e17-bb6cf7ef8a5a",
   "metadata": {},
   "source": [
    "La Elasticidad Precio de la Demanda (EPD) mide cómo la cantidad demandada de un producto cambia en respuesta a una variación en su precio. Se calcula como \n",
    "\n",
    "$$\\epsilon_{Q} = \\frac{\\Delta Q}{\\Delta P}$$"
   ]
  },
  {
   "cell_type": "markdown",
   "id": "91cae82e-8686-4f63-9f9f-70eb13f7bf12",
   "metadata": {},
   "source": [
    "### Tipos de Elasticidad de la Demanda\n",
    "\n",
    "**Demanda Elástica** ($|EPD| > 1$):  \n",
    "La cantidad demandada varía en una proporción mayor que el cambio en el precio.  \n",
    "Un pequeño cambio en el precio provoca un cambio significativo en la cantidad demandada.  \n",
    "*Ejemplo:* Bienes de lujo o productos con muchos sustitutos disponibles.\n",
    "\n",
    "---\n",
    "\n",
    "**Demanda Inelástica** ($|EPD| < 1$):  \n",
    "La cantidad demandada varía en una proporción menor que el cambio en el precio.  \n",
    "Un cambio en el precio tiene poco impacto en la cantidad demandada.  \n",
    "*Ejemplo:* Bienes de primera necesidad o esenciales, como medicamentos o gasolina (a corto plazo).\n",
    "\n",
    "---\n",
    "\n",
    "**Elasticidad Unitaria** ($|EPD| = 1$):  \n",
    "La cantidad demandada varía en la misma proporción que el cambio en el precio.\n"
   ]
  },
  {
   "cell_type": "code",
   "execution_count": null,
   "id": "93806363-f330-4884-addf-c60db9d405e2",
   "metadata": {},
   "outputs": [],
   "source": [
    "T4E.MainElas()"
   ]
  },
  {
   "cell_type": "markdown",
   "id": "b4e500df-1d74-434e-913c-a11c58307189",
   "metadata": {},
   "source": [
    "# <div align=\"left\"><font size=\"5\">Extracción de información del modelo de datos</font></div>"
   ]
  },
  {
   "cell_type": "code",
   "execution_count": null,
   "id": "8534646b-ac36-47c4-85f1-e4317f5bb097",
   "metadata": {},
   "outputs": [],
   "source": [
    "# Se extraen los datos del modelo de datos\n",
    "D4NN, D4C= T4DE.Get_Data()"
   ]
  },
  {
   "cell_type": "markdown",
   "id": "35c88075-c3a3-4544-956b-2bc319881eac",
   "metadata": {},
   "source": [
    "# <div align=\"left\"><font size=\"5\">Clasificación no supervisada</font></div>"
   ]
  },
  {
   "cell_type": "markdown",
   "id": "68a9512b-21ba-4356-9b00-e565a39b476a",
   "metadata": {},
   "source": [
    "### Estrategia de Precios por *Cluster*\n",
    "\n",
    "---\n",
    "\n",
    "#### 1. Incrementar Precios (o Reducir Descuentos) 📈  \n",
    "**Objetivo:** Maximizar el margen en clientes de alto valor.  \n",
    "\n",
    "| **Cluster** | **Acción** | **Razón Clave** |\n",
    "|--------------|-------------|-----------------|\n",
    "| **2** | Aumentar el precio. | **Élite:** Máximo gasto  y máxima actividad . Demanda inelástica. |\n",
    "| **0** | Evaluar aumento moderado. | **Alto Valor:** Alto gasto. Monitorear para no perderlos por su menor actividad. |\n",
    "\n",
    "---\n",
    "\n",
    "#### 2. Bajar Precios (o Aumentar Promociones) 📉  \n",
    "**Objetivo:** Impulsar el volumen y reactivar a clientes sensibles al precio o en riesgo.  \n",
    "\n",
    "| **Cluster** | **Acción** | **Razón Clave** |\n",
    "|--------------|-------------|-----------------|\n",
    "| **5** | Aumentar las promociones. | **Sensibles:** Bajo valor y alta indicación de sensibilidad a promociones. |\n",
    "| **3** | Ofertas de reactivación. | **En Riesgo:** Gasto inicial alto, pero actividad posterior nula. Necesitan un incentivo fuerte para reengancharse. |\n",
    "\n",
    "---\n",
    "\n",
    "#### 3. Mantener Precios (Enfoque en Volumen y Venta Cruzada) 🛍️  \n",
    "**Objetivo:** Fidelizar y aumentar la compra de productos adicionales sin tocar la base del precio.  \n",
    "\n",
    "| **Cluster** | **Acción** | **Razón Clave** |\n",
    "|--------------|-------------|-----------------|\n",
    "| **1 y 4** | Mantener precios. | **Muy Activos:** Ya tienen una alta frecuencia de compra. La meta es venderles más productos, no bajarles ni bajarles el precio base. |\n"
   ]
  },
  {
   "cell_type": "code",
   "execution_count": null,
   "id": "fb4eff5e-c805-4df5-9947-4e6bc047d22e",
   "metadata": {},
   "outputs": [],
   "source": [
    "ClusteringData(False,D4C)"
   ]
  },
  {
   "cell_type": "markdown",
   "id": "f717c1df-4d44-4944-9d74-f04d0a6e40d1",
   "metadata": {},
   "source": [
    "# \n",
    "\n",
    "<div align=\"left\"><font size=\"5\">Extracción de la base de datos de los clusters generados</font></div>"
   ]
  },
  {
   "cell_type": "code",
   "execution_count": null,
   "id": "aca9e032-de01-4e95-9f4c-60ccc6413056",
   "metadata": {},
   "outputs": [],
   "source": [
    "# se extrae la base de datos de los clusters generados\n",
    "DBClus= T4DE.GetDB()"
   ]
  },
  {
   "cell_type": "markdown",
   "id": "eeeea767-ebf8-4bec-a2ac-d99f183f7bac",
   "metadata": {},
   "source": [
    "# <div align=\"left\"><font size=\"5\">Clasificación supervisada</font></div>"
   ]
  },
  {
   "cell_type": "code",
   "execution_count": null,
   "id": "3000fb02-7f17-4971-887f-b30f8e56d785",
   "metadata": {},
   "outputs": [],
   "source": [
    "# Se aplica la clasificación supervisada a la base de datos de los clusters generados\n",
    "ClusteringSupervisado(DBClus)"
   ]
  },
  {
   "cell_type": "markdown",
   "id": "0d780e6a-93da-474c-8fa9-0889f24a1a51",
   "metadata": {},
   "source": [
    "# <div align=\"left\"><font size=\"5\">Obteniendo la tarifa dinámica</font></div>"
   ]
  },
  {
   "cell_type": "code",
   "execution_count": null,
   "id": "1810b4b7-ef78-4c09-bb2a-c4bb121ff7bd",
   "metadata": {},
   "outputs": [],
   "source": [
    "TodayDataPD=T4N.ProcessingNet(D4NN)"
   ]
  },
  {
   "cell_type": "code",
   "execution_count": null,
   "id": "8ef68533-66cf-4b3e-adc8-bd2edbf8021f",
   "metadata": {},
   "outputs": [],
   "source": []
  },
  {
   "cell_type": "code",
   "execution_count": null,
   "id": "2c97acb9-988a-43dd-9c34-8b427eb61a6d",
   "metadata": {},
   "outputs": [],
   "source": [
    "DataElas= T4E.GetDataElasticity()\n",
    "Elas=DataElas['Elasticidad']"
   ]
  },
  {
   "cell_type": "markdown",
   "id": "48081f90-0b80-4c17-bff8-a7dcfc5d45c7",
   "metadata": {},
   "source": [
    "# <div align=\"left\"><font size=\"5\">Obteniendo datos del presente día para la tarifa personalizada</font></div>"
   ]
  },
  {
   "cell_type": "code",
   "execution_count": null,
   "id": "7a5f6f17-8e92-41d7-956c-584c44eb0dcf",
   "metadata": {},
   "outputs": [],
   "source": [
    "# Se obtienen los datos de los clientes para obtener la tarifa personalizada\n",
    "TodayData4C= T4TP.GetTodayData4Cluster(D4C)"
   ]
  },
  {
   "cell_type": "code",
   "execution_count": null,
   "id": "4a2b6098-659f-426e-8adb-307c76daec67",
   "metadata": {},
   "outputs": [],
   "source": [
    "# se simula la obtencion del cluster del cliente que está comprando\n",
    "# para ver que tarifa personalizada se le asigna\n",
    "\n",
    "import pandas as pd\n",
    "\n",
    "# 1. Inicializa una lista vacía para guardar los resultados\n",
    "lista_resultados = []\n",
    "\n",
    "# 2. Itera y agrega cada DataFrame a la lista\n",
    "for row in range(len(TodayData4C)):\n",
    "    # 1. Crea la fila (DataFrame de 1xN)\n",
    "    InfoClient = pd.DataFrame(TodayData4C.iloc[row]).T\n",
    "    \n",
    "    # 2. Procesa la información (asumo que T4TP.GetCluster devuelve Cluster y desc)\n",
    "    Cluster, desc = T4TP.GetCluster(InfoClient, DBClus,Elas)\n",
    "    \n",
    "    # 3. Agrega la nueva columna\n",
    "    InfoClient[\"%_Tarifa Personalizada\"] = desc\n",
    "    InfoClient[\"Cluster\"] = Cluster\n",
    "    \n",
    "    # 4. Agrega el DataFrame resultante a la lista\n",
    "    lista_resultados.append(InfoClient)\n",
    "\n",
    "# 3. Concatena todos los DataFrames de la lista de una sola vez\n",
    "TodayDataTP = pd.concat(lista_resultados, ignore_index=True)\n",
    "\n",
    "# El DataFrame 'final' ahora contiene todas las filas concatenadas"
   ]
  },
  {
   "cell_type": "code",
   "execution_count": null,
   "id": "c753aedc-0994-4761-84e3-e0133f6cd8a8",
   "metadata": {},
   "outputs": [],
   "source": []
  },
  {
   "cell_type": "markdown",
   "id": "aa3f70af-528a-4f52-b065-0114e68ae916",
   "metadata": {},
   "source": [
    "# <div align=\"left\"><font size=\"5\">Merge de las tarifas</font></div>"
   ]
  },
  {
   "cell_type": "code",
   "execution_count": null,
   "id": "a9c6107e-b814-4393-bf0a-65563e8c9da5",
   "metadata": {},
   "outputs": [],
   "source": [
    "df_combinado = pd.merge(\n",
    "    TodayDataPD,\n",
    "    TodayDataTP,\n",
    "    on='NOMBRE_PASAJERO',  # La columna clave que comparten\n",
    "    how='inner'    # El tipo de unión que deseas\n",
    ")"
   ]
  },
  {
   "cell_type": "code",
   "execution_count": null,
   "id": "85179b2d-0b39-4bf6-b883-de0666ae438b",
   "metadata": {},
   "outputs": [],
   "source": [
    "df_PD= df_combinado[['NOMBRE_PASAJERO', 'EMAIL','Cluster', 'PRECIO DINAMICO', '%_Tarifa Personalizada']]\n",
    "df_PD ['Precio final con IVA']= df_PD['PRECIO DINAMICO']*(df_PD['%_Tarifa Personalizada']/100)+ df_PD['PRECIO DINAMICO']+df_PD['PRECIO DINAMICO']*0.15\n",
    "df_PD ['Precio final con IVA']= np.round(df_PD ['Precio final con IVA'])"
   ]
  },
  {
   "cell_type": "code",
   "execution_count": null,
   "id": "72ceaef2-b526-4500-a13f-ffe16a2c173a",
   "metadata": {},
   "outputs": [],
   "source": [
    "df_PD"
   ]
  },
  {
   "cell_type": "code",
   "execution_count": null,
   "id": "64f74594-8b4b-488b-b77c-28d52af94eea",
   "metadata": {},
   "outputs": [],
   "source": []
  }
 ],
 "metadata": {
  "kernelspec": {
   "display_name": "Python 3 (ipykernel)",
   "language": "python",
   "name": "python3"
  },
  "language_info": {
   "codemirror_mode": {
    "name": "ipython",
    "version": 3
   },
   "file_extension": ".py",
   "mimetype": "text/x-python",
   "name": "python",
   "nbconvert_exporter": "python",
   "pygments_lexer": "ipython3",
   "version": "3.12.3"
  }
 },
 "nbformat": 4,
 "nbformat_minor": 5
}
