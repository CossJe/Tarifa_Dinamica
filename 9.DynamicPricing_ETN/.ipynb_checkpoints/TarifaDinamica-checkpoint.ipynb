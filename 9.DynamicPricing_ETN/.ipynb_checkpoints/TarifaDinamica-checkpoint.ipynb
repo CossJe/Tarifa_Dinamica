{
 "cells": [
  {
   "cell_type": "markdown",
   "id": "e2bd8232-bba4-4463-a7db-b464a3c1c21d",
   "metadata": {},
   "source": [
    "# <center><font size=\"8\">Prototipo de Oferta Dinámica Personalizada</font></center>"
   ]
  },
  {
   "cell_type": "markdown",
   "id": "8f1c02f4-afbf-4f68-9c29-020c65b1a6d4",
   "metadata": {},
   "source": [
    "<div align=\"left\"><font size=\"5\">📌 Introducción</font></div>"
   ]
  },
  {
   "cell_type": "markdown",
   "id": "665e1ea0-012d-460c-abaa-6fdb66e8321b",
   "metadata": {},
   "source": [
    "## 1. Contexto y Objetivos\n",
    "\n",
    "El presente proyecto se enfoca en el desarrollo de un sistema avanzado de **Oferta Dinámica (Dynamic Pricing)** con el objetivo primordial de **optimizar los ingresos y la rentabilidad** a través de la **personalización de tarifas**.  \n",
    "\n",
    "En lugar de utilizar modelos de precio estáticos o ajustes basados únicamente en la demanda global, nuestro prototipo se cimenta en el **análisis individual del consumidor** para determinar el precio óptimo en tiempo real.  \n",
    "\n",
    "Para lograr esta personalización, hemos diseñado un **pipeline de Machine Learning** que combina técnicas de **econometría**, **aprendizaje no supervisado** y **modelos predictivos**.\n",
    "\n",
    "---\n",
    "\n",
    "## 2. Metodología y Arquitectura del Modelo\n",
    "\n",
    "La propuesta metodológica se basa en **tres fases interconectadas**, que transforman la sensibilidad del cliente en una tarifa personalizada:\n",
    "\n",
    "---\n",
    "\n",
    "### A. Estimación y Segmentación por Elasticidad (Fundamento Económico)\n",
    "\n",
    "El primer pilar del prototipo fue la **estimación rigurosa de la elasticidad precio de la demanda ($\\text{EPD}$)**.  \n",
    "Esta métrica ha sido fundamental para entender el grado de respuesta de la cantidad demandada ante variaciones de precio en nuestros datos históricos.\n",
    "\n",
    "Posteriormente, aplicamos un **algoritmo de clustering** (*aprendizaje no supervisado*) para **clasificar a los clientes** basándonos en su $\\text{EPD}$ y otras características de comportamiento.  \n",
    "\n",
    "Este *clustering* nos permitió crear **segmentos de clientes bien definidos** (por ejemplo: *“Extremadamente Elásticos”*, *“Inelásticos”*), estableciendo un **rango de ajuste de precios** (aumento o decremento) específico para cada grupo.\n",
    "\n",
    "---\n",
    "\n",
    "### B. Clasificación de Clientes Nuevos (Motor de XGBoost)\n",
    "\n",
    "Una vez establecidos los segmentos de elasticidad, desarrollamos un **clasificador basado en el algoritmo XGBoost (eXtreme Gradient Boosting)**.  \n",
    "\n",
    "La función de este modelo es crucial en la operativa:  \n",
    "al recibir los datos de un nuevo cliente o una nueva interacción, **XGBoost predice a cuál de las categorías de elasticidad pre-clasificadas pertenece**.  \n",
    "\n",
    "Esta predicción es el **factor determinante inicial** para estimar la tarifa personalizada, permitiéndonos saber si el sistema debe apuntar a un **aumento**, un **decremento** o un **precio base**.\n",
    "\n",
    "---\n",
    "\n",
    "### C. Determinación de la Oferta Dinámica (Red Neuronal)\n",
    "\n",
    "Finalmente, para la etapa de determinación del precio, implementamos una **red neuronal artificial**.  \n",
    "\n",
    "Este modelo de aprendizaje profundo **integra las características de la demanda**, la **clasificación de elasticidad obtenida de XGBoost**, y otras **variables dinámicas** (como inventario, hora del día y actividad de la competencia) para **estimar la oferta dinámica final y personalizada**.  \n",
    "\n",
    "La red neuronal provee la **flexibilidad** y la **capacidad de capturar relaciones no lineales** necesarias para el ajuste preciso del precio a nivel individual.\n",
    "\n"
   ]
  },
  {
   "cell_type": "markdown",
   "id": "142a8923-fbef-4adf-8f6d-242bfc36934d",
   "metadata": {},
   "source": [
    "<div align=\"left\"><font size=\"5\">📌 Objetivos</font></div>\n"
   ]
  },
  {
   "cell_type": "markdown",
   "id": "888884b8-e35b-47eb-8283-5c99e2ac303c",
   "metadata": {},
   "source": [
    "- **1. Estimar la Elasticidad de la Demanda**  \n",
    "  - Cuantificar la sensibilidad al precio ($\\text{EPD}$) de los diferentes segmentos de clientes.  \n",
    "  - Servirá como fundamento económico para la toma de decisiones de precio.\n",
    "\n",
    "- **2. Segmentar Clientes por Comportamiento de Precio**  \n",
    "  - Aplicar técnicas de *clustering para agrupar clientes en categorías de elasticidad homogéneas.  \n",
    "  - Crear segmentos accionables que definan la estrategia inicial de aumento o decremento de precios.\n",
    "\n",
    "- **3. Desarrollar un Motor de Clasificación de Clientes**  \n",
    "  - Implementar y validar el algoritmo XGBoost para clasificar con alta precisión a nuevos clientes.  \n",
    "  - Integrar la clasificación dentro de los segmentos de elasticidad previamente definidos.\n",
    "\n",
    "- **4. Integrar un Pipeline Predictivo Completo**  \n",
    "  - Crear un prototipo pipeline robusto que combine:  \n",
    "    - **Clustering** (aprendizaje no supervisado)  \n",
    "    - **Clasificación** (XGBoost)  \n",
    "    - **Predicción** (Red Neuronal)  \n",
    "- **5. Generar la tarifa final personalizada con tarifa dinámica**.\n",
    "\n"
   ]
  },
  {
   "cell_type": "markdown",
   "id": "4a829f08-7502-4474-995f-9324b1df51f9",
   "metadata": {},
   "source": [
    "# <div align=\"left\"><font size=\"5\">📌 Librerias</font></div>"
   ]
  },
  {
   "cell_type": "code",
   "execution_count": 1,
   "id": "c39da10c-99fc-485a-b10c-5a6e926fe4ec",
   "metadata": {},
   "outputs": [],
   "source": [
    "import matplotlib.pyplot as plt\n",
    "import pandas as pd\n",
    "import numpy as np\n",
    "import os\n",
    "\n",
    "from Tools import Tools4DataExtraction as T4DE\n",
    "from Tools.Tools4Cluster import ClusteringData\n",
    "from Tools.Tools4ClasSupervisada import ClusteringSupervisado\n",
    "from Tools import Tools4TarifPer as T4TP\n",
    "from Tools import Tools4Net as T4N \n",
    "from Tools import Tools4Elasticity as T4E"
   ]
  },
  {
   "cell_type": "markdown",
   "id": "f5d3d1c7-8353-44e3-ab86-b17edd5784b1",
   "metadata": {},
   "source": [
    "# <div align=\"left\"><font size=\"5\">📌Calculo de la elasticidad</font></div>"
   ]
  },
  {
   "cell_type": "markdown",
   "id": "a809a76b-04d4-4800-9e17-bb6cf7ef8a5a",
   "metadata": {},
   "source": [
    "La Elasticidad Precio de la Demanda (EPD) mide cómo la cantidad demandada de un producto cambia en respuesta a una variación en su precio. Se calcula como \n",
    "\n",
    "$$\\epsilon_{Q} = \\frac{\\Delta Q}{\\Delta P}$$\n",
    "\n",
    "### Clasificación de la Elasticidad de la Demanda según su valor\n",
    "\n",
    "**Demanda Elástica** ($|EPD| > 1$):  \n",
    "La cantidad demandada varía en una proporción mayor que el cambio en el precio.  \n",
    "Un pequeño cambio en el precio provoca un cambio significativo en la cantidad demandada.  \n",
    "*Ejemplo:* Bienes de lujo o productos con muchos sustitutos disponibles.\n",
    "\n",
    "---\n",
    "\n",
    "**Demanda Inelástica** ($|EPD| < 1$):  \n",
    "La cantidad demandada varía en una proporción menor que el cambio en el precio.  \n",
    "Un cambio en el precio tiene poco impacto en la cantidad demandada.  \n",
    "*Ejemplo:* Bienes de primera necesidad o esenciales, como medicamentos o gasolina (a corto plazo).\n",
    "\n",
    "---\n",
    "\n",
    "**Elasticidad Unitaria** ($|EPD| = 1$):  \n",
    "La cantidad demandada varía en la misma proporción que el cambio en el precio."
   ]
  },
  {
   "cell_type": "code",
   "execution_count": 2,
   "id": "93806363-f330-4884-addf-c60db9d405e2",
   "metadata": {},
   "outputs": [
    {
     "name": "stdout",
     "output_type": "stream",
     "text": [
      "Memoria usada antes: 624.55 MB\n",
      "Memoria usada después: 121.38 MB\n",
      "Reducción: 80.6%\n",
      "La elasticidad de la demanda es: -0.9054\n",
      "El precio maximo a vender es: 967.6565\n"
     ]
    }
   ],
   "source": [
    "T4E.MainElas()"
   ]
  },
  {
   "cell_type": "markdown",
   "id": "b4e500df-1d74-434e-913c-a11c58307189",
   "metadata": {},
   "source": [
    "# <div align=\"left\"><font size=\"5\">📌Extracción de información del modelo de datos</font></div>"
   ]
  },
  {
   "cell_type": "code",
   "execution_count": 3,
   "id": "8534646b-ac36-47c4-85f1-e4317f5bb097",
   "metadata": {},
   "outputs": [
    {
     "name": "stdout",
     "output_type": "stream",
     "text": [
      "Memoria usada antes: 624.55 MB\n",
      "Memoria usada después: 121.38 MB\n",
      "Reducción: 80.6%\n"
     ]
    }
   ],
   "source": [
    "# Se extraen los datos del modelo de datos\n",
    "D4NN, D4C= T4DE.Get_Data()"
   ]
  },
  {
   "cell_type": "markdown",
   "id": "35c88075-c3a3-4544-956b-2bc319881eac",
   "metadata": {},
   "source": [
    "# <div align=\"left\"><font size=\"5\">📌Clasificación no supervisada</font></div>"
   ]
  },
  {
   "cell_type": "markdown",
   "id": "3a95889f-70e7-4b43-adb6-dffaeafd68ea",
   "metadata": {},
   "source": [
    "La clasificación de clientes permite entender cómo distintos grupos responden al precio y al servicio, habilitando estrategias de precio personalizado que maximizan ingresos y reducen pérdida de demanda. Se calcula el **precio óptimo** según la respuesta esperada del segmento (elasticidad estimada o probabilidad de compra).\n",
    "\n",
    "### 🔹 Estrategias diferenciadas\n",
    "- **Segmento elástico →** precios competitivos o descuentos.  \n",
    "- **Segmento inelástico →** precios premium o aumentos graduales.  \n",
    "- **Segmento leal →** estabilidad de precios.\n",
    "\n",
    "---\n",
    "\n",
    "## 📊 Beneficios Clave\n",
    "\n",
    "- 💰 **Maximiza los ingresos** ajustando precios según la disposición a pagar.  \n",
    "- 📉 **Reduce pérdida de demanda** por aumentos injustificados.  \n",
    "- 🎯 **Mejora la precisión del modelo**, al trabajar con segmentos más homogéneos.  \n",
    "- 🧠 **Permite estrategias personalizadas y accionables** según el tipo de cliente.\n"
   ]
  },
  {
   "cell_type": "code",
   "execution_count": 4,
   "id": "fb4eff5e-c805-4df5-9947-4e6bc047d22e",
   "metadata": {},
   "outputs": [
    {
     "name": "stdout",
     "output_type": "stream",
     "text": [
      "Modelo K-Means guardado exitosamente como: KmeansAllData.joblib\n"
     ]
    }
   ],
   "source": [
    "ClusteringData(False,D4C)"
   ]
  },
  {
   "cell_type": "markdown",
   "id": "68a9512b-21ba-4356-9b00-e565a39b476a",
   "metadata": {},
   "source": [
    "### Estrategia de Precios por *Cluster*\n",
    "\n",
    "---\n",
    "\n",
    "#### 1. Incrementar Precios (o Reducir Descuentos) 📈  \n",
    "**Objetivo:** Maximizar el margen en clientes de alto valor.  \n",
    "\n",
    "| **Cluster** | **Acción** | **Razón Clave** |\n",
    "|--------------|-------------|-----------------|\n",
    "| **2** | Aumentar el precio. | **Élite:** Máximo gasto  y máxima actividad . Demanda inelástica. |\n",
    "| **0** | Evaluar aumento moderado. | **Alto Valor:** Alto gasto. Monitorear para no perderlos por su menor actividad. |\n",
    "\n",
    "---\n",
    "\n",
    "#### 2. Bajar Precios (o Aumentar Promociones) 📉  \n",
    "**Objetivo:** Impulsar el volumen y reactivar a clientes sensibles al precio o en riesgo.  \n",
    "\n",
    "| **Cluster** | **Acción** | **Razón Clave** |\n",
    "|--------------|-------------|-----------------|\n",
    "| **5** | Aumentar las promociones. | **Sensibles:** Bajo valor y alta indicación de sensibilidad a promociones. |\n",
    "| **3** | Ofertas de reactivación. | **En Riesgo:** Gasto inicial alto, pero actividad posterior nula. Necesitan un incentivo fuerte para reengancharse. |\n",
    "\n",
    "---\n",
    "\n",
    "#### 3. Mantener Precios (Enfoque en Volumen y Venta Cruzada) 🛍️  \n",
    "**Objetivo:** Fidelizar y aumentar la compra de productos adicionales sin tocar la base del precio.  \n",
    "\n",
    "| **Cluster** | **Acción** | **Razón Clave** |\n",
    "|--------------|-------------|-----------------|\n",
    "| **1 y 4** | Mantener precios. | **Muy Activos:** Ya tienen una alta frecuencia de compra. La meta es venderles más productos, no bajarles ni bajarles el precio base. |\n"
   ]
  },
  {
   "cell_type": "markdown",
   "id": "f717c1df-4d44-4944-9d74-f04d0a6e40d1",
   "metadata": {},
   "source": [
    "# <div align=\"left\"><font size=\"5\">📌Extracción de la base de datos de los clusters generados</font></div>"
   ]
  },
  {
   "cell_type": "code",
   "execution_count": 5,
   "id": "aca9e032-de01-4e95-9f4c-60ccc6413056",
   "metadata": {},
   "outputs": [],
   "source": [
    "# se extrae la base de datos de los clusters generados\n",
    "DBClus= T4DE.GetDB()"
   ]
  },
  {
   "cell_type": "markdown",
   "id": "eeeea767-ebf8-4bec-a2ac-d99f183f7bac",
   "metadata": {},
   "source": [
    "# <div align=\"left\"><font size=\"5\">📌Clasificación supervisada</font></div>"
   ]
  },
  {
   "cell_type": "markdown",
   "id": "315dac8d-5e1f-4019-a44a-fa26b7b90cc2",
   "metadata": {},
   "source": [
    "\n",
    "La implementación de un algoritmo de aprendizaje supervisado es fundamental para transformar una base de datos de clientes clasificados en un sistema de tarifa dinámica eficiente y rentable.\n",
    "\n",
    "El valor agregado reside en pasar de la segmentación estática a la predicción continua. \n",
    "\n",
    "| Componente | Rol en el Modelo de Tarifa Dinámica | Beneficio Clave |\n",
    "| :--- | :--- | :--- |\n",
    "| **Clasificación Inicial de Clientes** | Sirve como *input* (una de las características) para el modelo de Machine Learning. | Proporciona una base de datos histórica y segmentada de alta calidad. |\n",
    "| **Algoritmo de Aprendizaje Supervisado** | Entrena un modelo para predecir el comportamiento del cliente y calcular el precio óptimo basándose en datos históricos etiquetados (transacciones y resultados). | Maximiza el ingreso al ajustar la tarifa en tiempo real a la disposición a pagar individual. |\n",
    "| **Red neuronal (Output)** | Permite al modelo predecir un valor continuo y exacto (el precio de venta) en lugar de limitarse a asignar categorías predefinidas. | Permite un ajuste fino y automatizado de precios, respondiendo a la demanda, inventario, precios de la competencia y el perfil específico del cliente simultáneamente. |\n",
    "\n"
   ]
  },
  {
   "cell_type": "code",
   "execution_count": 6,
   "id": "3000fb02-7f17-4971-887f-b30f8e56d785",
   "metadata": {},
   "outputs": [
    {
     "name": "stdout",
     "output_type": "stream",
     "text": [
      "Modelo XGBoost guardado exitosamente como: modelo_xgboost_clientes.json\n"
     ]
    }
   ],
   "source": [
    "# Se aplica la clasificación supervisada a la base de datos de los clusters generados\n",
    "ClusteringSupervisado(DBClus)"
   ]
  },
  {
   "cell_type": "markdown",
   "id": "0d780e6a-93da-474c-8fa9-0889f24a1a51",
   "metadata": {},
   "source": [
    "# <div align=\"left\"><font size=\"5\">📌Calculando la tarifa dinámica</font></div>"
   ]
  },
  {
   "cell_type": "markdown",
   "id": "2c6edbad-8fc9-45e4-ad29-1e75d012877e",
   "metadata": {},
   "source": [
    "Una red neuronal artificial (RNA) es una herramienta poderosa para pronosticar la tarifa dinámica porque sobresale en el manejo de la complejidad y las relaciones no lineales inherentes a la fijación de precios en el mercado.\n",
    "\n",
    "Su principal utilidad es su capacidad para modelar la elasticidad de la demanda de forma muy precisa, considerando simultáneamente una gran cantidad de variables."
   ]
  },
  {
   "cell_type": "code",
   "execution_count": 7,
   "id": "1810b4b7-ef78-4c09-bb2a-c4bb121ff7bd",
   "metadata": {},
   "outputs": [
    {
     "name": "stdout",
     "output_type": "stream",
     "text": [
      "Epoch 1/2\n",
      "\u001b[1m6929/6929\u001b[0m \u001b[32m━━━━━━━━━━━━━━━━━━━━\u001b[0m\u001b[37m\u001b[0m \u001b[1m9s\u001b[0m 1ms/step - loss: 18146.9707 - mae: 46.8998 - mse: 18146.9707 - val_loss: 800.2231 - val_mae: 20.9470 - val_mse: 800.2231\n",
      "Epoch 2/2\n",
      "\u001b[1m6929/6929\u001b[0m \u001b[32m━━━━━━━━━━━━━━━━━━━━\u001b[0m\u001b[37m\u001b[0m \u001b[1m8s\u001b[0m 1ms/step - loss: 290.3540 - mae: 11.1049 - mse: 290.3540 - val_loss: 108.0311 - val_mae: 6.7111 - val_mse: 108.0311\n",
      "\u001b[1m2166/2166\u001b[0m \u001b[32m━━━━━━━━━━━━━━━━━━━━\u001b[0m\u001b[37m\u001b[0m \u001b[1m1s\u001b[0m 522us/step\n",
      "\n",
      "El Error Absoluto Medio (MAE) final es de: 6.68 [Moneda]\n",
      "\n",
      "La Raíz del Error Cuadrático Medio (RMSE) final es de: 10.29 [Moneda]\n",
      "\u001b[1m1/1\u001b[0m \u001b[32m━━━━━━━━━━━━━━━━━━━━\u001b[0m\u001b[37m\u001b[0m \u001b[1m0s\u001b[0m 44ms/step\n"
     ]
    }
   ],
   "source": [
    "T4N.ProcessingNet(D4NN)\n",
    "TodayDataPD= T4N.NewClientsPredNet(D4NN)"
   ]
  },
  {
   "cell_type": "markdown",
   "id": "2a53a7a5-0ac4-4180-9717-61abf6df489d",
   "metadata": {},
   "source": [
    "# <div align=\"left\"><font size=\"5\">📌Obteniendo la elasticidad calculada</font></div>"
   ]
  },
  {
   "cell_type": "markdown",
   "id": "e650255b-6310-4adc-a1b4-d1ab1a799182",
   "metadata": {},
   "source": [
    "La elasticidad calculada se guarda en un modelo de datos para posteriormente cargarla y hacer los cálculos necesarios en la segmentación de los clientes."
   ]
  },
  {
   "cell_type": "code",
   "execution_count": 8,
   "id": "2c97acb9-988a-43dd-9c34-8b427eb61a6d",
   "metadata": {},
   "outputs": [],
   "source": [
    "DataElas= T4E.GetDataElasticity()\n",
    "Elas=DataElas['Elasticidad']"
   ]
  },
  {
   "cell_type": "markdown",
   "id": "48081f90-0b80-4c17-bff8-a7dcfc5d45c7",
   "metadata": {},
   "source": [
    "# <div align=\"left\"><font size=\"5\">📌Obteniendo datos del presente día para la tarifa personalizada</font></div>"
   ]
  },
  {
   "cell_type": "markdown",
   "id": "45f5c8a8-0a62-4a58-a70d-c2d0d5de05e6",
   "metadata": {},
   "source": [
    "Se cargan los datos del día presente del modelo de datos"
   ]
  },
  {
   "cell_type": "code",
   "execution_count": 9,
   "id": "7a5f6f17-8e92-41d7-956c-584c44eb0dcf",
   "metadata": {},
   "outputs": [],
   "source": [
    "# Se obtienen los datos de los clientes para obtener la tarifa personalizada\n",
    "TodayData4C= T4TP.GetTodayData4Cluster(D4C)"
   ]
  },
  {
   "cell_type": "markdown",
   "id": "61e00de9-5e59-4de4-88c2-753eebde66c0",
   "metadata": {},
   "source": [
    "# <div align=\"left\"><font size=\"5\">📌Calculando el porcentaje de aumento para la tarifa personalizada</font></div>"
   ]
  },
  {
   "cell_type": "markdown",
   "id": "bd96a023-d52a-4f52-87c5-c4b5f9bc5efa",
   "metadata": {},
   "source": [
    "Ya teniendo entrenados los algoritmos que clasificaron la data histórica de clientes, de manera supervisada y no supervisada, se procede a realizar una prueba de calidad con los datos del día corriente para poder observar el comportamiento de los precios personalizados."
   ]
  },
  {
   "cell_type": "code",
   "execution_count": 10,
   "id": "4a2b6098-659f-426e-8adb-307c76daec67",
   "metadata": {},
   "outputs": [],
   "source": [
    "# se simula la obtencion del cluster del cliente que está comprando\n",
    "# para ver que tarifa personalizada se le asigna\n",
    "\n",
    "import pandas as pd\n",
    "\n",
    "# 1. Inicializa una lista vacía para guardar los resultados\n",
    "lista_resultados = []\n",
    "\n",
    "# 2. Itera y agrega cada DataFrame a la lista\n",
    "for row in range(len(TodayData4C)):\n",
    "    # 1. Crea la fila (DataFrame de 1xN)\n",
    "    InfoClient = pd.DataFrame(TodayData4C.iloc[row]).T\n",
    "    \n",
    "    # 2. Procesa la información (asumo que T4TP.GetCluster devuelve Cluster y desc)\n",
    "    Cluster, desc = T4TP.GetCluster(InfoClient, DBClus,Elas)\n",
    "    \n",
    "    # 3. Agrega la nueva columna\n",
    "    InfoClient[\"%_Tarifa Personalizada\"] = desc\n",
    "    InfoClient[\"Cluster\"] = Cluster\n",
    "    \n",
    "    # 4. Agrega el DataFrame resultante a la lista\n",
    "    lista_resultados.append(InfoClient)\n",
    "\n",
    "# 3. Concatena todos los DataFrames de la lista de una sola vez\n",
    "TodayDataTP = pd.concat(lista_resultados, ignore_index=True)\n",
    "\n",
    "# El DataFrame 'final' ahora contiene todas las filas concatenadas"
   ]
  },
  {
   "cell_type": "markdown",
   "id": "aa3f70af-528a-4f52-b065-0114e68ae916",
   "metadata": {},
   "source": [
    "# <div align=\"left\"><font size=\"5\">📌Merge de las tarifas</font></div>"
   ]
  },
  {
   "cell_type": "markdown",
   "id": "181666d8-b884-4276-9a4d-345c2aadff97",
   "metadata": {},
   "source": [
    "Para finalizar este pipeline, se combinan los dataframes obtenidos de la red neuronal del precio dinámico con el del algoritmo de clasificación del precio personalizado"
   ]
  },
  {
   "cell_type": "code",
   "execution_count": 11,
   "id": "a9c6107e-b814-4393-bf0a-65563e8c9da5",
   "metadata": {},
   "outputs": [],
   "source": [
    "df_combinado = pd.merge(\n",
    "    TodayDataPD,\n",
    "    TodayDataTP,\n",
    "    on='NOMBRE_PASAJERO',  # La columna clave que comparten\n",
    "    how='inner'    # El tipo de unión que deseas\n",
    ")"
   ]
  },
  {
   "cell_type": "code",
   "execution_count": 12,
   "id": "85179b2d-0b39-4bf6-b883-de0666ae438b",
   "metadata": {},
   "outputs": [],
   "source": [
    "df_PD= df_combinado[['NOMBRE_PASAJERO', 'EMAIL','Cluster', 'PRECIO DINAMICO', '%_Tarifa Personalizada']]\n",
    "df_PD ['Precio final con IVA']= df_PD['PRECIO DINAMICO']*(df_PD['%_Tarifa Personalizada']/100)+ df_PD['PRECIO DINAMICO']+df_PD['PRECIO DINAMICO']*0.15\n",
    "df_PD ['Precio final con IVA']= np.round(df_PD ['Precio final con IVA'])"
   ]
  },
  {
   "cell_type": "markdown",
   "id": "fb62f830-4036-4062-9145-ffbf0eab07e2",
   "metadata": {},
   "source": [
    "El siguiente dataframe muestra los precios dinámicos con el 15 porciento de IVA para cada uno de los usuarios del presente día según su clasificación obtenida con los algoritmos de aprendizaje. "
   ]
  },
  {
   "cell_type": "code",
   "execution_count": 13,
   "id": "72ceaef2-b526-4500-a13f-ffe16a2c173a",
   "metadata": {},
   "outputs": [
    {
     "data": {
      "text/html": [
       "<div>\n",
       "<style scoped>\n",
       "    .dataframe tbody tr th:only-of-type {\n",
       "        vertical-align: middle;\n",
       "    }\n",
       "\n",
       "    .dataframe tbody tr th {\n",
       "        vertical-align: top;\n",
       "    }\n",
       "\n",
       "    .dataframe thead th {\n",
       "        text-align: right;\n",
       "    }\n",
       "</style>\n",
       "<table border=\"1\" class=\"dataframe\">\n",
       "  <thead>\n",
       "    <tr style=\"text-align: right;\">\n",
       "      <th></th>\n",
       "      <th>NOMBRE_PASAJERO</th>\n",
       "      <th>EMAIL</th>\n",
       "      <th>Cluster</th>\n",
       "      <th>PRECIO DINAMICO</th>\n",
       "      <th>%_Tarifa Personalizada</th>\n",
       "      <th>Precio final con IVA</th>\n",
       "    </tr>\n",
       "  </thead>\n",
       "  <tbody>\n",
       "    <tr>\n",
       "      <th>0</th>\n",
       "      <td>TANATIUH OCAMPO POPCA</td>\n",
       "      <td>tanatiuh.ocampo.popca@ejemplo.com</td>\n",
       "      <td>1</td>\n",
       "      <td>955.807800</td>\n",
       "      <td>0.000000</td>\n",
       "      <td>1099.0</td>\n",
       "    </tr>\n",
       "    <tr>\n",
       "      <th>1</th>\n",
       "      <td>JORDY ATANAEL MORALE ROJAS</td>\n",
       "      <td>jordy.atanael.morale.rojas@ejemplo.com</td>\n",
       "      <td>1</td>\n",
       "      <td>956.870544</td>\n",
       "      <td>0.000000</td>\n",
       "      <td>1100.0</td>\n",
       "    </tr>\n",
       "    <tr>\n",
       "      <th>2</th>\n",
       "      <td>MARIA JULIA AGULERA VEGA</td>\n",
       "      <td>maria.julia.agulera.vega@ejemplo.com</td>\n",
       "      <td>1</td>\n",
       "      <td>955.908020</td>\n",
       "      <td>0.000000</td>\n",
       "      <td>1099.0</td>\n",
       "    </tr>\n",
       "    <tr>\n",
       "      <th>3</th>\n",
       "      <td>JESUS JAIMES CRUZ</td>\n",
       "      <td>jesus.jaimes.cruz@ejemplo.com</td>\n",
       "      <td>1</td>\n",
       "      <td>955.573181</td>\n",
       "      <td>0.000000</td>\n",
       "      <td>1099.0</td>\n",
       "    </tr>\n",
       "    <tr>\n",
       "      <th>4</th>\n",
       "      <td>YADIRA ROMERO RUIZ</td>\n",
       "      <td>yadira.romero.ruiz@ejemplo.com</td>\n",
       "      <td>5</td>\n",
       "      <td>959.496887</td>\n",
       "      <td>-4.527081</td>\n",
       "      <td>1060.0</td>\n",
       "    </tr>\n",
       "    <tr>\n",
       "      <th>5</th>\n",
       "      <td>HORACIO LOPEZ VAN PRATT</td>\n",
       "      <td>horacio.lopez.van.pratt@ejemplo.com</td>\n",
       "      <td>3</td>\n",
       "      <td>899.669373</td>\n",
       "      <td>-4.527081</td>\n",
       "      <td>994.0</td>\n",
       "    </tr>\n",
       "    <tr>\n",
       "      <th>6</th>\n",
       "      <td>ISMAEL GALVEZ VELAZQUEZ</td>\n",
       "      <td>ismael.galvez.velazquez@ejemplo.com</td>\n",
       "      <td>5</td>\n",
       "      <td>960.440369</td>\n",
       "      <td>-4.527081</td>\n",
       "      <td>1061.0</td>\n",
       "    </tr>\n",
       "    <tr>\n",
       "      <th>7</th>\n",
       "      <td>SALVADOR MAGALLON RODRIGUEZ</td>\n",
       "      <td>salvador.magallon.rodriguez@ejemplo.com</td>\n",
       "      <td>3</td>\n",
       "      <td>955.279480</td>\n",
       "      <td>-4.527081</td>\n",
       "      <td>1055.0</td>\n",
       "    </tr>\n",
       "    <tr>\n",
       "      <th>8</th>\n",
       "      <td>IRINEO GARCIA</td>\n",
       "      <td>irineo.garcia@ejemplo.com</td>\n",
       "      <td>3</td>\n",
       "      <td>955.463318</td>\n",
       "      <td>-4.527081</td>\n",
       "      <td>1056.0</td>\n",
       "    </tr>\n",
       "    <tr>\n",
       "      <th>9</th>\n",
       "      <td>ROGELIO CARDENAS</td>\n",
       "      <td>rogelio.cardenas@ejemplo.com</td>\n",
       "      <td>3</td>\n",
       "      <td>955.446594</td>\n",
       "      <td>-4.527081</td>\n",
       "      <td>1056.0</td>\n",
       "    </tr>\n",
       "    <tr>\n",
       "      <th>10</th>\n",
       "      <td>CARLOS ALBERTO LONGORIA</td>\n",
       "      <td>carlos.alberto.longoria@ejemplo.com</td>\n",
       "      <td>5</td>\n",
       "      <td>956.766541</td>\n",
       "      <td>-4.527081</td>\n",
       "      <td>1057.0</td>\n",
       "    </tr>\n",
       "    <tr>\n",
       "      <th>11</th>\n",
       "      <td>GERARDO MEDINA</td>\n",
       "      <td>gerardo.medina@ejemplo.com</td>\n",
       "      <td>3</td>\n",
       "      <td>955.345459</td>\n",
       "      <td>-4.527081</td>\n",
       "      <td>1055.0</td>\n",
       "    </tr>\n",
       "    <tr>\n",
       "      <th>12</th>\n",
       "      <td>LUIS CONTRERAS MEJIA</td>\n",
       "      <td>luis.contreras.mejia@ejemplo.com</td>\n",
       "      <td>5</td>\n",
       "      <td>955.076477</td>\n",
       "      <td>-4.527081</td>\n",
       "      <td>1055.0</td>\n",
       "    </tr>\n",
       "    <tr>\n",
       "      <th>13</th>\n",
       "      <td>MARCO ANTONIO CHAVEZ MANZANO</td>\n",
       "      <td>marco.antonio.chavez.manzano@ejemplo.com</td>\n",
       "      <td>5</td>\n",
       "      <td>958.084412</td>\n",
       "      <td>-4.527081</td>\n",
       "      <td>1058.0</td>\n",
       "    </tr>\n",
       "    <tr>\n",
       "      <th>14</th>\n",
       "      <td>NORA IVETH VILLEGAS AGUAYO</td>\n",
       "      <td>nora.iveth.villegas.aguayo@ejemplo.com</td>\n",
       "      <td>5</td>\n",
       "      <td>958.119568</td>\n",
       "      <td>-4.527081</td>\n",
       "      <td>1058.0</td>\n",
       "    </tr>\n",
       "    <tr>\n",
       "      <th>15</th>\n",
       "      <td>ADRIAN SANCHEZ</td>\n",
       "      <td>adrian.sanchez@ejemplo.com</td>\n",
       "      <td>3</td>\n",
       "      <td>955.287781</td>\n",
       "      <td>-4.527081</td>\n",
       "      <td>1055.0</td>\n",
       "    </tr>\n",
       "    <tr>\n",
       "      <th>16</th>\n",
       "      <td>CYNTHIA SLENDY DAVILA UNI</td>\n",
       "      <td>cynthia.slendy.davila.uni@ejemplo.com</td>\n",
       "      <td>5</td>\n",
       "      <td>959.068726</td>\n",
       "      <td>-4.527081</td>\n",
       "      <td>1060.0</td>\n",
       "    </tr>\n",
       "    <tr>\n",
       "      <th>17</th>\n",
       "      <td>GEORGINA CASTRO BLAKE</td>\n",
       "      <td>georgina.castro.blake@ejemplo.com</td>\n",
       "      <td>3</td>\n",
       "      <td>954.759766</td>\n",
       "      <td>-4.527081</td>\n",
       "      <td>1055.0</td>\n",
       "    </tr>\n",
       "    <tr>\n",
       "      <th>18</th>\n",
       "      <td>JOSE LUIS ARMAS</td>\n",
       "      <td>jose.luis.armas@ejemplo.com</td>\n",
       "      <td>3</td>\n",
       "      <td>955.006531</td>\n",
       "      <td>-4.527081</td>\n",
       "      <td>1055.0</td>\n",
       "    </tr>\n",
       "    <tr>\n",
       "      <th>19</th>\n",
       "      <td>CRISTO ALEXIS GUTIERREZ</td>\n",
       "      <td>cristo.alexis.gutierrez@ejemplo.com</td>\n",
       "      <td>3</td>\n",
       "      <td>954.971375</td>\n",
       "      <td>-4.527081</td>\n",
       "      <td>1055.0</td>\n",
       "    </tr>\n",
       "    <tr>\n",
       "      <th>20</th>\n",
       "      <td>CESAR JOVANI GARCÍA PÉREZ</td>\n",
       "      <td>cesar.jovani.garcía.pérez@ejemplo.com</td>\n",
       "      <td>5</td>\n",
       "      <td>960.395081</td>\n",
       "      <td>-4.527081</td>\n",
       "      <td>1061.0</td>\n",
       "    </tr>\n",
       "    <tr>\n",
       "      <th>21</th>\n",
       "      <td>JORGE MELÉNDEZ</td>\n",
       "      <td>jorge.meléndez@ejemplo.com</td>\n",
       "      <td>5</td>\n",
       "      <td>958.428528</td>\n",
       "      <td>-4.527081</td>\n",
       "      <td>1059.0</td>\n",
       "    </tr>\n",
       "    <tr>\n",
       "      <th>22</th>\n",
       "      <td>IGNACIO LOERA</td>\n",
       "      <td>ignacio.loera@ejemplo.com</td>\n",
       "      <td>3</td>\n",
       "      <td>956.781738</td>\n",
       "      <td>-4.527081</td>\n",
       "      <td>1057.0</td>\n",
       "    </tr>\n",
       "    <tr>\n",
       "      <th>23</th>\n",
       "      <td>ALVARO HERNANDEZ</td>\n",
       "      <td>alvaro.hernandez@ejemplo.com</td>\n",
       "      <td>3</td>\n",
       "      <td>956.951965</td>\n",
       "      <td>-4.527081</td>\n",
       "      <td>1057.0</td>\n",
       "    </tr>\n",
       "    <tr>\n",
       "      <th>24</th>\n",
       "      <td>EDGAR EDUARDO FLORES GALEANA</td>\n",
       "      <td>edgar.eduardo.flores.galeana@ejemplo.com</td>\n",
       "      <td>5</td>\n",
       "      <td>955.182678</td>\n",
       "      <td>-4.527081</td>\n",
       "      <td>1055.0</td>\n",
       "    </tr>\n",
       "    <tr>\n",
       "      <th>25</th>\n",
       "      <td>JESUS HUERTA EVANGELISTA</td>\n",
       "      <td>jesus.huerta.evangelista@ejemplo.com</td>\n",
       "      <td>3</td>\n",
       "      <td>955.674011</td>\n",
       "      <td>-4.527081</td>\n",
       "      <td>1056.0</td>\n",
       "    </tr>\n",
       "    <tr>\n",
       "      <th>26</th>\n",
       "      <td>IRVING PIÑON</td>\n",
       "      <td>irving.piñon@ejemplo.com</td>\n",
       "      <td>3</td>\n",
       "      <td>955.638855</td>\n",
       "      <td>-4.527081</td>\n",
       "      <td>1056.0</td>\n",
       "    </tr>\n",
       "    <tr>\n",
       "      <th>27</th>\n",
       "      <td>DARIO CHRISTIAN CARRILLO TEXPA</td>\n",
       "      <td>dario.christian.carrillo.texpa@ejemplo.com</td>\n",
       "      <td>5</td>\n",
       "      <td>960.463745</td>\n",
       "      <td>-4.527081</td>\n",
       "      <td>1061.0</td>\n",
       "    </tr>\n",
       "  </tbody>\n",
       "</table>\n",
       "</div>"
      ],
      "text/plain": [
       "                   NOMBRE_PASAJERO  \\\n",
       "0            TANATIUH OCAMPO POPCA   \n",
       "1       JORDY ATANAEL MORALE ROJAS   \n",
       "2         MARIA JULIA AGULERA VEGA   \n",
       "3                JESUS JAIMES CRUZ   \n",
       "4               YADIRA ROMERO RUIZ   \n",
       "5          HORACIO LOPEZ VAN PRATT   \n",
       "6          ISMAEL GALVEZ VELAZQUEZ   \n",
       "7      SALVADOR MAGALLON RODRIGUEZ   \n",
       "8                    IRINEO GARCIA   \n",
       "9                 ROGELIO CARDENAS   \n",
       "10         CARLOS ALBERTO LONGORIA   \n",
       "11                  GERARDO MEDINA   \n",
       "12            LUIS CONTRERAS MEJIA   \n",
       "13    MARCO ANTONIO CHAVEZ MANZANO   \n",
       "14      NORA IVETH VILLEGAS AGUAYO   \n",
       "15                  ADRIAN SANCHEZ   \n",
       "16       CYNTHIA SLENDY DAVILA UNI   \n",
       "17           GEORGINA CASTRO BLAKE   \n",
       "18                 JOSE LUIS ARMAS   \n",
       "19         CRISTO ALEXIS GUTIERREZ   \n",
       "20       CESAR JOVANI GARCÍA PÉREZ   \n",
       "21                  JORGE MELÉNDEZ   \n",
       "22                   IGNACIO LOERA   \n",
       "23                ALVARO HERNANDEZ   \n",
       "24    EDGAR EDUARDO FLORES GALEANA   \n",
       "25        JESUS HUERTA EVANGELISTA   \n",
       "26                    IRVING PIÑON   \n",
       "27  DARIO CHRISTIAN CARRILLO TEXPA   \n",
       "\n",
       "                                         EMAIL  Cluster  PRECIO DINAMICO  \\\n",
       "0            tanatiuh.ocampo.popca@ejemplo.com        1       955.807800   \n",
       "1       jordy.atanael.morale.rojas@ejemplo.com        1       956.870544   \n",
       "2         maria.julia.agulera.vega@ejemplo.com        1       955.908020   \n",
       "3                jesus.jaimes.cruz@ejemplo.com        1       955.573181   \n",
       "4               yadira.romero.ruiz@ejemplo.com        5       959.496887   \n",
       "5          horacio.lopez.van.pratt@ejemplo.com        3       899.669373   \n",
       "6          ismael.galvez.velazquez@ejemplo.com        5       960.440369   \n",
       "7      salvador.magallon.rodriguez@ejemplo.com        3       955.279480   \n",
       "8                    irineo.garcia@ejemplo.com        3       955.463318   \n",
       "9                 rogelio.cardenas@ejemplo.com        3       955.446594   \n",
       "10         carlos.alberto.longoria@ejemplo.com        5       956.766541   \n",
       "11                  gerardo.medina@ejemplo.com        3       955.345459   \n",
       "12            luis.contreras.mejia@ejemplo.com        5       955.076477   \n",
       "13    marco.antonio.chavez.manzano@ejemplo.com        5       958.084412   \n",
       "14      nora.iveth.villegas.aguayo@ejemplo.com        5       958.119568   \n",
       "15                  adrian.sanchez@ejemplo.com        3       955.287781   \n",
       "16       cynthia.slendy.davila.uni@ejemplo.com        5       959.068726   \n",
       "17           georgina.castro.blake@ejemplo.com        3       954.759766   \n",
       "18                 jose.luis.armas@ejemplo.com        3       955.006531   \n",
       "19         cristo.alexis.gutierrez@ejemplo.com        3       954.971375   \n",
       "20       cesar.jovani.garcía.pérez@ejemplo.com        5       960.395081   \n",
       "21                  jorge.meléndez@ejemplo.com        5       958.428528   \n",
       "22                   ignacio.loera@ejemplo.com        3       956.781738   \n",
       "23                alvaro.hernandez@ejemplo.com        3       956.951965   \n",
       "24    edgar.eduardo.flores.galeana@ejemplo.com        5       955.182678   \n",
       "25        jesus.huerta.evangelista@ejemplo.com        3       955.674011   \n",
       "26                    irving.piñon@ejemplo.com        3       955.638855   \n",
       "27  dario.christian.carrillo.texpa@ejemplo.com        5       960.463745   \n",
       "\n",
       "    %_Tarifa Personalizada  Precio final con IVA  \n",
       "0                 0.000000                1099.0  \n",
       "1                 0.000000                1100.0  \n",
       "2                 0.000000                1099.0  \n",
       "3                 0.000000                1099.0  \n",
       "4                -4.527081                1060.0  \n",
       "5                -4.527081                 994.0  \n",
       "6                -4.527081                1061.0  \n",
       "7                -4.527081                1055.0  \n",
       "8                -4.527081                1056.0  \n",
       "9                -4.527081                1056.0  \n",
       "10               -4.527081                1057.0  \n",
       "11               -4.527081                1055.0  \n",
       "12               -4.527081                1055.0  \n",
       "13               -4.527081                1058.0  \n",
       "14               -4.527081                1058.0  \n",
       "15               -4.527081                1055.0  \n",
       "16               -4.527081                1060.0  \n",
       "17               -4.527081                1055.0  \n",
       "18               -4.527081                1055.0  \n",
       "19               -4.527081                1055.0  \n",
       "20               -4.527081                1061.0  \n",
       "21               -4.527081                1059.0  \n",
       "22               -4.527081                1057.0  \n",
       "23               -4.527081                1057.0  \n",
       "24               -4.527081                1055.0  \n",
       "25               -4.527081                1056.0  \n",
       "26               -4.527081                1056.0  \n",
       "27               -4.527081                1061.0  "
      ]
     },
     "execution_count": 13,
     "metadata": {},
     "output_type": "execute_result"
    }
   ],
   "source": [
    "df_PD"
   ]
  },
  {
   "cell_type": "code",
   "execution_count": 14,
   "id": "64f74594-8b4b-488b-b77c-28d52af94eea",
   "metadata": {},
   "outputs": [],
   "source": [
    "df_PD.to_csv('datos_dinamicos.csv', index=False)"
   ]
  },
  {
   "cell_type": "code",
   "execution_count": null,
   "id": "58988570-98a0-444b-81b7-c53ae4eeb4dc",
   "metadata": {},
   "outputs": [],
   "source": []
  }
 ],
 "metadata": {
  "kernelspec": {
   "display_name": "Python 3 (ipykernel)",
   "language": "python",
   "name": "python3"
  },
  "language_info": {
   "codemirror_mode": {
    "name": "ipython",
    "version": 3
   },
   "file_extension": ".py",
   "mimetype": "text/x-python",
   "name": "python",
   "nbconvert_exporter": "python",
   "pygments_lexer": "ipython3",
   "version": "3.12.3"
  }
 },
 "nbformat": 4,
 "nbformat_minor": 5
}
