{
 "cells": [
  {
   "cell_type": "markdown",
   "id": "e2bd8232-bba4-4463-a7db-b464a3c1c21d",
   "metadata": {},
   "source": [
    "# <center><font size=\"8\">Prototipo de Oferta Dinámica Personalizada</font></center>"
   ]
  },
  {
   "cell_type": "markdown",
   "id": "8f1c02f4-afbf-4f68-9c29-020c65b1a6d4",
   "metadata": {},
   "source": [
    "<div align=\"left\"><font size=\"5\">📌 Introducción</font></div>"
   ]
  },
  {
   "cell_type": "markdown",
   "id": "665e1ea0-012d-460c-abaa-6fdb66e8321b",
   "metadata": {},
   "source": [
    "## 1. Contexto y Objetivos\n",
    "\n",
    "El presente proyecto se enfoca en el desarrollo de un sistema avanzado de **Oferta Dinámica (Dynamic Pricing)** con el objetivo primordial de **optimizar los ingresos y la rentabilidad** a través de la **personalización de tarifas**.  \n",
    "\n",
    "En lugar de utilizar modelos de precio estáticos o ajustes basados únicamente en la demanda global, nuestro prototipo se cimenta en el **análisis individual del consumidor** para determinar el precio óptimo en tiempo real.  \n",
    "\n",
    "Para lograr esta personalización, hemos diseñado un **pipeline de Machine Learning** que combina técnicas de **econometría**, **aprendizaje no supervisado** y **modelos predictivos**.\n",
    "\n",
    "---\n",
    "\n",
    "## 2. Metodología y Arquitectura del Modelo\n",
    "\n",
    "La propuesta metodológica se basa en **tres fases interconectadas**, que transforman la sensibilidad del cliente en una tarifa personalizada:\n",
    "\n",
    "---\n",
    "\n",
    "### A. Estimación y Segmentación por Elasticidad (Fundamento Económico)\n",
    "\n",
    "El primer pilar del prototipo fue la **estimación rigurosa de la elasticidad precio de la demanda ($\\text{EPD}$)**.  \n",
    "Esta métrica ha sido fundamental para entender el grado de respuesta de la cantidad demandada ante variaciones de precio en nuestros datos históricos.\n",
    "\n",
    "Posteriormente, aplicamos un **algoritmo de clustering** (*aprendizaje no supervisado*) para **clasificar a los clientes** basándonos en su $\\text{EPD}$ y otras características de comportamiento.  \n",
    "\n",
    "Este *clustering* nos permitió crear **segmentos de clientes bien definidos** (por ejemplo: *“Extremadamente Elásticos”*, *“Inelásticos”*), estableciendo un **rango de ajuste de precios** (aumento o decremento) específico para cada grupo.\n",
    "\n",
    "---\n",
    "\n",
    "### B. Clasificación de Clientes Nuevos (Motor de XGBoost)\n",
    "\n",
    "Una vez establecidos los segmentos de elasticidad, desarrollamos un **clasificador basado en el algoritmo XGBoost (eXtreme Gradient Boosting)**.  \n",
    "\n",
    "La función de este modelo es crucial en la operativa:  \n",
    "al recibir los datos de un nuevo cliente o una nueva interacción, **XGBoost predice a cuál de las categorías de elasticidad pre-clasificadas pertenece**.  \n",
    "\n",
    "Esta predicción es el **factor determinante inicial** para estimar la tarifa personalizada, permitiéndonos saber si el sistema debe apuntar a un **aumento**, un **decremento** o un **precio base**.\n",
    "\n",
    "---\n",
    "\n",
    "### C. Determinación de la Oferta Dinámica (Red Neuronal)\n",
    "\n",
    "Finalmente, para la etapa de determinación del precio, implementamos una **red neuronal artificial**.  \n",
    "\n",
    "Este modelo de aprendizaje profundo **integra las características de la demanda**, la **clasificación de elasticidad obtenida de XGBoost**, y otras **variables dinámicas** (como inventario, hora del día y actividad de la competencia) para **estimar la oferta dinámica final y personalizada**.  \n",
    "\n",
    "La red neuronal provee la **flexibilidad** y la **capacidad de capturar relaciones no lineales** necesarias para el ajuste preciso del precio a nivel individual.\n",
    "\n"
   ]
  },
  {
   "cell_type": "markdown",
   "id": "142a8923-fbef-4adf-8f6d-242bfc36934d",
   "metadata": {},
   "source": [
    "<div align=\"left\"><font size=\"5\">📌 Objetivos</font></div>\n"
   ]
  },
  {
   "cell_type": "markdown",
   "id": "888884b8-e35b-47eb-8283-5c99e2ac303c",
   "metadata": {},
   "source": [
    "- **1. Estimar la Elasticidad de la Demanda**  \n",
    "  - Cuantificar la sensibilidad al precio ($\\text{EPD}$) de los diferentes segmentos de clientes.  \n",
    "  - Servirá como fundamento económico para la toma de decisiones de precio.\n",
    "\n",
    "- **2. Segmentar Clientes por Comportamiento de Precio**  \n",
    "  - Aplicar técnicas de *clustering para agrupar clientes en categorías de elasticidad homogéneas.  \n",
    "  - Crear segmentos accionables que definan la estrategia inicial de aumento o decremento de precios.\n",
    "\n",
    "- **3. Desarrollar un Motor de Clasificación de Clientes**  \n",
    "  - Implementar y validar el algoritmo XGBoost para clasificar con alta precisión a nuevos clientes.  \n",
    "  - Integrar la clasificación dentro de los segmentos de elasticidad previamente definidos.\n",
    "\n",
    "- **4. Integrar un Pipeline Predictivo Completo**  \n",
    "  - Crear un prototipo pipeline robusto que combine:  \n",
    "    - **Clustering** (aprendizaje no supervisado)  \n",
    "    - **Clasificación** (XGBoost)  \n",
    "    - **Predicción** (Red Neuronal)  \n",
    "- **5. Generar la tarifa final personalizada con tarifa dinámica**.\n",
    "\n"
   ]
  },
  {
   "cell_type": "markdown",
   "id": "4a829f08-7502-4474-995f-9324b1df51f9",
   "metadata": {},
   "source": [
    "# <div align=\"left\"><font size=\"5\">📌 Librerias</font></div>"
   ]
  },
  {
   "cell_type": "code",
   "execution_count": null,
   "id": "c39da10c-99fc-485a-b10c-5a6e926fe4ec",
   "metadata": {},
   "outputs": [],
   "source": [
    "import matplotlib.pyplot as plt\n",
    "import pandas as pd\n",
    "import numpy as np\n",
    "import os\n",
    "\n",
    "from Tools import Tools4DataExtraction as T4DE\n",
    "from Tools.Tools4Cluster import ClusteringData\n",
    "from Tools.Tools4ClasSupervisada import ClusteringSupervisado\n",
    "from Tools import Tools4TarifPer as T4TP\n",
    "from Tools import Tools4Net as T4N \n",
    "from Tools import Tools4Elasticity as T4E\n",
    "from Tools import Tools4CaracDemanda as TCD"
   ]
  },
  {
   "cell_type": "markdown",
   "id": "b4e500df-1d74-434e-913c-a11c58307189",
   "metadata": {},
   "source": [
    "# <div align=\"left\"><font size=\"5\">📌Extracción de información del modelo de datos</font></div>"
   ]
  },
  {
   "cell_type": "code",
   "execution_count": null,
   "id": "8534646b-ac36-47c4-85f1-e4317f5bb097",
   "metadata": {},
   "outputs": [],
   "source": [
    "# Se extraen los datos del modelo de datos\n",
    "D4NN, D4C, D4C1, D4GC= T4DE.Get_Data()"
   ]
  },
  {
   "cell_type": "code",
   "execution_count": null,
   "id": "de5b6a28-64e3-4371-83a1-5b6811086b7c",
   "metadata": {},
   "outputs": [],
   "source": [
    "TCD.BuenasCaracteristicas(D4GC)"
   ]
  },
  {
   "cell_type": "markdown",
   "id": "f5d3d1c7-8353-44e3-ab86-b17edd5784b1",
   "metadata": {},
   "source": [
    "# <div align=\"left\"><font size=\"5\">📌Calculo de la elasticidad</font></div>"
   ]
  },
  {
   "cell_type": "markdown",
   "id": "a809a76b-04d4-4800-9e17-bb6cf7ef8a5a",
   "metadata": {},
   "source": [
    "La Elasticidad Precio de la Demanda (EPD) mide cómo la cantidad demandada de un producto cambia en respuesta a una variación en su precio. Se calcula como \n",
    "\n",
    "$$\\epsilon_{Q} = \\frac{\\Delta Q}{\\Delta P}$$\n",
    "\n",
    "### Clasificación de la Elasticidad de la Demanda según su valor\n",
    "\n",
    "**Demanda Elástica** ($|EPD| > 1$):  \n",
    "La cantidad demandada varía en una proporción mayor que el cambio en el precio.  \n",
    "Un pequeño cambio en el precio provoca un cambio significativo en la cantidad demandada.  \n",
    "*Ejemplo:* Bienes de lujo o productos con muchos sustitutos disponibles.\n",
    "\n",
    "---\n",
    "\n",
    "**Demanda Inelástica** ($|EPD| < 1$):  \n",
    "La cantidad demandada varía en una proporción menor que el cambio en el precio.  \n",
    "Un cambio en el precio tiene poco impacto en la cantidad demandada.  \n",
    "*Ejemplo:* Bienes de primera necesidad o esenciales, como medicamentos o gasolina (a corto plazo).\n",
    "\n",
    "---\n",
    "\n",
    "**Elasticidad Unitaria** ($|EPD| = 1$):  \n",
    "La cantidad demandada varía en la misma proporción que el cambio en el precio."
   ]
  },
  {
   "cell_type": "code",
   "execution_count": null,
   "id": "93806363-f330-4884-addf-c60db9d405e2",
   "metadata": {},
   "outputs": [],
   "source": [
    "T4E.MainElas()"
   ]
  },
  {
   "cell_type": "markdown",
   "id": "35c88075-c3a3-4544-956b-2bc319881eac",
   "metadata": {},
   "source": [
    "# <div align=\"left\"><font size=\"5\">📌Clasificación no supervisada</font></div>"
   ]
  },
  {
   "cell_type": "markdown",
   "id": "3a95889f-70e7-4b43-adb6-dffaeafd68ea",
   "metadata": {},
   "source": [
    "La clasificación de clientes permite entender cómo distintos grupos responden al precio y al servicio, habilitando estrategias de precio personalizado que maximizan ingresos y reducen pérdida de demanda. Se calcula el **precio óptimo** según la respuesta esperada del segmento (elasticidad estimada o probabilidad de compra).\n",
    "\n",
    "### 🔹 Estrategias diferenciadas\n",
    "- **Segmento elástico →** precios competitivos o descuentos.  \n",
    "- **Segmento inelástico →** precios premium o aumentos graduales.  \n",
    "- **Segmento leal →** estabilidad de precios.\n",
    "\n",
    "---\n",
    "\n",
    "## 📊 Beneficios Clave\n",
    "\n",
    "- 💰 **Maximiza los ingresos** ajustando precios según la disposición a pagar.  \n",
    "- 📉 **Reduce pérdida de demanda** por aumentos injustificados.  \n",
    "- 🎯 **Mejora la precisión del modelo**, al trabajar con segmentos más homogéneos.  \n",
    "- 🧠 **Permite estrategias personalizadas y accionables** según el tipo de cliente.\n"
   ]
  },
  {
   "cell_type": "code",
   "execution_count": null,
   "id": "fb4eff5e-c805-4df5-9947-4e6bc047d22e",
   "metadata": {},
   "outputs": [],
   "source": [
    "# 0 es para todos los dias antes de ayer\n",
    "# -1 es para todos los dias antes de 7 dias desde ayer\n",
    "# 1 es desde ayer hasta hace un año\n",
    "Zero= -1\n",
    "ClusteringData(False,D4C,Zero)"
   ]
  },
  {
   "cell_type": "markdown",
   "id": "68a9512b-21ba-4356-9b00-e565a39b476a",
   "metadata": {},
   "source": [
    "### Estrategia de Precios por *Cluster*\n",
    "\n",
    "### Ajuste de Precio por Cluster\n",
    "\n",
    "| Cluster | Estrategia                 | Descripción                                                           |\n",
    "|:--------:|:--------------------------:|:----------------------------------------------------------------------|\n",
    "| **3** | **+10% Sobrecosto**        | Clientes urgentes, pagan caro sin promo. Aprovechar elasticidad baja. |\n",
    "| **1** | **+7.5% Sobrecosto**         | Clientes leales y poco sensibles, mantener precios altos.             |\n",
    "| **4** | **+2.5% Ligero sobrecosto**  | Compradores mixtos, ajustar marginalmente.                            |\n",
    "| **2** | **-2.5% Descuento leve**     | Fieles pero algo sensibles, descuento simbólico.                      |\n",
    "| **0** | **-5% Descuento moderado** | Alta anticipación y uso de promo, sensibles.                          |\n",
    "| **5** | **-7.5% Descuento fuerte**   | Segmento más sensible, atraer con precios agresivos.                  |\n",
    "\n"
   ]
  },
  {
   "cell_type": "markdown",
   "id": "f717c1df-4d44-4944-9d74-f04d0a6e40d1",
   "metadata": {},
   "source": [
    "# <div align=\"left\"><font size=\"5\">📌Extracción de la base de datos de los clusters generados</font></div>"
   ]
  },
  {
   "cell_type": "code",
   "execution_count": null,
   "id": "aca9e032-de01-4e95-9f4c-60ccc6413056",
   "metadata": {},
   "outputs": [],
   "source": [
    "# se extrae la base de datos de los clusters generados\n",
    "DBClus= T4DE.GetDB()"
   ]
  },
  {
   "cell_type": "markdown",
   "id": "eeeea767-ebf8-4bec-a2ac-d99f183f7bac",
   "metadata": {},
   "source": [
    "# <div align=\"left\"><font size=\"5\">📌Clasificación supervisada</font></div>"
   ]
  },
  {
   "cell_type": "markdown",
   "id": "315dac8d-5e1f-4019-a44a-fa26b7b90cc2",
   "metadata": {},
   "source": [
    "\n",
    "La implementación de un algoritmo de aprendizaje supervisado es fundamental para transformar una base de datos de clientes clasificados en un sistema de tarifa dinámica eficiente y rentable.\n",
    "\n",
    "El valor agregado reside en pasar de la segmentación estática a la predicción continua. \n",
    "\n",
    "| Componente | Rol en el Modelo de Tarifa Dinámica | Beneficio Clave |\n",
    "| :--- | :--- | :--- |\n",
    "| **Clasificación Inicial de Clientes** | Sirve como *input* (una de las características) para el modelo de Machine Learning. | Proporciona una base de datos histórica y segmentada de alta calidad. |\n",
    "| **Algoritmo de Aprendizaje Supervisado** | Entrena un modelo para predecir el comportamiento del cliente y calcular el precio óptimo basándose en datos históricos etiquetados (transacciones y resultados). | Maximiza el ingreso al ajustar la tarifa en tiempo real a la disposición a pagar individual. |\n",
    "| **Red neuronal (Output)** | Permite al modelo predecir un valor continuo y exacto (el precio de venta) en lugar de limitarse a asignar categorías predefinidas. | Permite un ajuste fino y automatizado de precios, respondiendo a la demanda, inventario, precios de la competencia y el perfil específico del cliente simultáneamente. |\n",
    "\n"
   ]
  },
  {
   "cell_type": "code",
   "execution_count": null,
   "id": "3000fb02-7f17-4971-887f-b30f8e56d785",
   "metadata": {},
   "outputs": [],
   "source": [
    "# Se aplica la clasificación supervisada a la base de datos de los clusters generados\n",
    "ClusteringSupervisado(DBClus)"
   ]
  },
  {
   "cell_type": "markdown",
   "id": "0d780e6a-93da-474c-8fa9-0889f24a1a51",
   "metadata": {},
   "source": [
    "# <div align=\"left\"><font size=\"5\">📌Calculando la tarifa dinámica</font></div>"
   ]
  },
  {
   "cell_type": "markdown",
   "id": "2c6edbad-8fc9-45e4-ad29-1e75d012877e",
   "metadata": {},
   "source": [
    "Una red neuronal artificial (RNA) es una herramienta poderosa para pronosticar la tarifa dinámica porque sobresale en el manejo de la complejidad y las relaciones no lineales inherentes a la fijación de precios en el mercado.\n",
    "\n",
    "Su principal utilidad es su capacidad para modelar la elasticidad de la demanda de forma muy precisa, considerando simultáneamente una gran cantidad de variables."
   ]
  },
  {
   "cell_type": "code",
   "execution_count": null,
   "id": "1810b4b7-ef78-4c09-bb2a-c4bb121ff7bd",
   "metadata": {},
   "outputs": [],
   "source": [
    "# 0 es para todos los dias antes de ayer\n",
    "# -1 es para todos los dias antes de 7 dias desde ayer\n",
    "# 1 es desde ayer hasta hace un año\n",
    "T4N.ProcessingNet(D4NN,Zero)\n",
    "\n",
    "# para pronosticar con todo el dataframe\n",
    "\n",
    "# False es para el dia de hoy\n",
    "# True es para hace 7 dias hasta hoy\n",
    "Negativo= True\n",
    "df_= T4N.PrepareData4Fore(D4NN,Negativo)\n",
    "\n",
    "#Fore= T4N.GetTodayData4Net(df_)\n",
    "#PrecioDin=T4N.NewClientsPredNet(Fore)\n",
    "#df_['PRECIO DINAMICO']=PrecioDin\n",
    "#TodayDataPD= df_.copy()\n",
    "\n",
    "# para pronosticar por cliente el dataframe\n",
    "lista_resultados = []\n",
    "\n",
    "for row in range(len(df_)):\n",
    "    InfoClient = pd.DataFrame(df_.iloc[row]).T\n",
    "    Foree= T4N.GetTodayData4Net(InfoClient)\n",
    "    InfoClient[\"TARIFA DINAMICA\"] = T4N.NewClientsPredNet(Foree)[0,0]\n",
    "    \n",
    "    lista_resultados.append(InfoClient)\n",
    "\n",
    "TodayDataPD = pd.concat(lista_resultados, ignore_index=True)"
   ]
  },
  {
   "cell_type": "code",
   "execution_count": null,
   "id": "9991976f-2356-4919-8445-cff759a3cf7f",
   "metadata": {},
   "outputs": [],
   "source": []
  },
  {
   "cell_type": "markdown",
   "id": "2a53a7a5-0ac4-4180-9717-61abf6df489d",
   "metadata": {},
   "source": [
    "# <div align=\"left\"><font size=\"5\">📌Obteniendo la elasticidad calculada</font></div>"
   ]
  },
  {
   "cell_type": "markdown",
   "id": "e650255b-6310-4adc-a1b4-d1ab1a799182",
   "metadata": {},
   "source": [
    "La elasticidad calculada se guarda en un modelo de datos para posteriormente cargarla y hacer los cálculos necesarios en la segmentación de los clientes."
   ]
  },
  {
   "cell_type": "code",
   "execution_count": null,
   "id": "2c97acb9-988a-43dd-9c34-8b427eb61a6d",
   "metadata": {},
   "outputs": [],
   "source": [
    "DataElas= T4E.GetDataElasticity()\n",
    "Elas=DataElas['Elasticidad']"
   ]
  },
  {
   "cell_type": "markdown",
   "id": "48081f90-0b80-4c17-bff8-a7dcfc5d45c7",
   "metadata": {},
   "source": [
    "# <div align=\"left\"><font size=\"5\">📌Obteniendo datos del presente día para la tarifa personalizada</font></div>"
   ]
  },
  {
   "cell_type": "markdown",
   "id": "45f5c8a8-0a62-4a58-a70d-c2d0d5de05e6",
   "metadata": {},
   "source": [
    "Se cargan los datos del día presente del modelo de datos"
   ]
  },
  {
   "cell_type": "code",
   "execution_count": null,
   "id": "7a5f6f17-8e92-41d7-956c-584c44eb0dcf",
   "metadata": {},
   "outputs": [],
   "source": [
    "# Se obtienen los datos de los clientes para obtener la tarifa personalizada\n",
    "# False es para el dia de hoy\n",
    "# True es para hace 7 dias hasta hoy\n",
    "TodayData4C= T4TP.GetTodayData4Cluster(D4C1,Negativo)"
   ]
  },
  {
   "cell_type": "markdown",
   "id": "61e00de9-5e59-4de4-88c2-753eebde66c0",
   "metadata": {},
   "source": [
    "# <div align=\"left\"><font size=\"5\">📌Calculando el porcentaje de aumento para la tarifa personalizada</font></div>"
   ]
  },
  {
   "cell_type": "markdown",
   "id": "bd96a023-d52a-4f52-87c5-c4b5f9bc5efa",
   "metadata": {},
   "source": [
    "Ya teniendo entrenados los algoritmos que clasificaron la data histórica de clientes, de manera supervisada y no supervisada, se procede a realizar una prueba de calidad con los datos del día corriente para poder observar el comportamiento de los precios personalizados."
   ]
  },
  {
   "cell_type": "code",
   "execution_count": null,
   "id": "4a2b6098-659f-426e-8adb-307c76daec67",
   "metadata": {},
   "outputs": [],
   "source": [
    "# se simula la obtencion del cluster del cliente que está comprando\n",
    "# para ver que tarifa personalizada se le asigna\n",
    "\n",
    "import pandas as pd\n",
    "\n",
    "# 1. Inicializa una lista vacía para guardar los resultados\n",
    "lista_resultados = []\n",
    "\n",
    "# 2. Itera y agrega cada DataFrame a la lista\n",
    "for row in range(len(TodayData4C)):\n",
    "    # 1. Crea la fila (DataFrame de 1xN)\n",
    "    InfoClient = pd.DataFrame(TodayData4C.iloc[row]).T\n",
    "    \n",
    "    # 2. Procesa la información (asumo que T4TP.GetCluster devuelve Cluster y desc)\n",
    "    Cluster, desc = T4TP.GetCluster(InfoClient, DBClus,Elas)\n",
    "    \n",
    "    # 3. Agrega la nueva columna\n",
    "    InfoClient[\"%_Tarifa Personalizada\"] = desc\n",
    "    InfoClient[\"Cluster\"] = Cluster\n",
    "    InfoClient[\"Delta_Q\"] = desc*Elas\n",
    "    \n",
    "    # 4. Agrega el DataFrame resultante a la lista\n",
    "    lista_resultados.append(InfoClient)\n",
    "\n",
    "# 3. Concatena todos los DataFrames de la lista de una sola vez\n",
    "TodayDataTP = pd.concat(lista_resultados, ignore_index=True)\n",
    "\n",
    "# El DataFrame 'final' ahora contiene todas las filas concatenadas"
   ]
  },
  {
   "cell_type": "code",
   "execution_count": null,
   "id": "15c457a4-ba43-4c8b-a966-17cdeb8be3b7",
   "metadata": {},
   "outputs": [],
   "source": []
  },
  {
   "cell_type": "markdown",
   "id": "aa3f70af-528a-4f52-b065-0114e68ae916",
   "metadata": {},
   "source": [
    "# <div align=\"left\"><font size=\"5\">📌Merge de las tarifas</font></div>"
   ]
  },
  {
   "cell_type": "markdown",
   "id": "181666d8-b884-4276-9a4d-345c2aadff97",
   "metadata": {},
   "source": [
    "Para finalizar este pipeline, se combinan los dataframes obtenidos de la red neuronal del precio dinámico con el del algoritmo de clasificación del precio personalizado"
   ]
  },
  {
   "cell_type": "code",
   "execution_count": null,
   "id": "a9c6107e-b814-4393-bf0a-65563e8c9da5",
   "metadata": {},
   "outputs": [],
   "source": [
    "df_combinado = pd.merge(\n",
    "    TodayDataPD,\n",
    "    TodayDataTP,\n",
    "    on='NOMBRE_PASAJERO',  # La columna clave que comparten\n",
    "    how='inner'    # El tipo de unión que deseas\n",
    ")"
   ]
  },
  {
   "cell_type": "code",
   "execution_count": null,
   "id": "9bb858b5-819e-454b-94a9-d9beb2610b79",
   "metadata": {},
   "outputs": [],
   "source": [
    "df_combinado.columns"
   ]
  },
  {
   "cell_type": "code",
   "execution_count": null,
   "id": "85179b2d-0b39-4bf6-b883-de0666ae438b",
   "metadata": {},
   "outputs": [],
   "source": [
    "df_PD= df_combinado[['NOMBRE_PASAJERO', 'EMAIL','Cluster', 'TARIFA DINAMICA', '%_Tarifa Personalizada','TARIFA_BASE_TRAMO',\"Delta_Q\"]]\n",
    "df_PD ['Precio final con IVA']= df_PD['TARIFA DINAMICA']*(df_PD['%_Tarifa Personalizada']/100)+ df_PD['TARIFA DINAMICA']+df_PD['TARIFA DINAMICA']*0.16\n",
    "df_PD ['Precio final con IVA']= np.round(df_PD ['Precio final con IVA'])\n",
    "\n",
    "df_PD ['Precio final sin IVA']= df_PD['TARIFA DINAMICA']*(df_PD['%_Tarifa Personalizada']/100)+ df_PD['TARIFA DINAMICA']\n",
    "df_PD ['Precio final sin IVA']= np.round(df_PD ['Precio final sin IVA'])"
   ]
  },
  {
   "cell_type": "markdown",
   "id": "fb62f830-4036-4062-9145-ffbf0eab07e2",
   "metadata": {},
   "source": [
    "El siguiente dataframe muestra los precios dinámicos con el 15 porciento de IVA para cada uno de los usuarios del presente día según su clasificación obtenida con los algoritmos de aprendizaje. "
   ]
  },
  {
   "cell_type": "code",
   "execution_count": null,
   "id": "72ceaef2-b526-4500-a13f-ffe16a2c173a",
   "metadata": {},
   "outputs": [],
   "source": [
    "df_PD"
   ]
  },
  {
   "cell_type": "code",
   "execution_count": null,
   "id": "35b4c3de-7fe7-4bc0-b539-55b20d3d9903",
   "metadata": {},
   "outputs": [],
   "source": []
  },
  {
   "cell_type": "code",
   "execution_count": null,
   "id": "64f74594-8b4b-488b-b77c-28d52af94eea",
   "metadata": {},
   "outputs": [],
   "source": [
    "# solo para el final del dia\n",
    "df_PD.to_csv('datos_dinamicos.csv', index=False)"
   ]
  },
  {
   "cell_type": "code",
   "execution_count": null,
   "id": "9a689b6d-23c6-4ae6-8bc5-7dc4b4e9195e",
   "metadata": {},
   "outputs": [],
   "source": [
    "ruta_principal = os.getcwd()\n",
    "config_path = os.path.join(ruta_principal, \"Files\", 'datos_dinamicos.parquet')\n",
    "df_PD.to_parquet(config_path, index=False)\n",
    "config_path = os.path.join(ruta_principal, \"Files\", 'datos_dinamicos.csv')\n",
    "df_PD.to_csv(config_path, index=False)"
   ]
  },
  {
   "cell_type": "code",
   "execution_count": null,
   "id": "82da7af8-4625-40ce-87c6-f2359ade2fcb",
   "metadata": {},
   "outputs": [],
   "source": []
  }
 ],
 "metadata": {
  "kernelspec": {
   "display_name": "Python 3 (ipykernel)",
   "language": "python",
   "name": "python3"
  },
  "language_info": {
   "codemirror_mode": {
    "name": "ipython",
    "version": 3
   },
   "file_extension": ".py",
   "mimetype": "text/x-python",
   "name": "python",
   "nbconvert_exporter": "python",
   "pygments_lexer": "ipython3",
   "version": "3.12.3"
  }
 },
 "nbformat": 4,
 "nbformat_minor": 5
}
